{
  "nbformat": 4,
  "nbformat_minor": 0,
  "metadata": {
    "colab": {
      "name": "salaries_by_college_major.ipynb",
      "provenance": [],
      "authorship_tag": "ABX9TyMUwqFRvHrQ3CmgeejY89s2",
      "include_colab_link": true
    },
    "kernelspec": {
      "name": "python3",
      "display_name": "Python 3"
    },
    "language_info": {
      "name": "python"
    }
  },
  "cells": [
    {
      "cell_type": "markdown",
      "metadata": {
        "id": "view-in-github",
        "colab_type": "text"
      },
      "source": [
        "<a href=\"https://colab.research.google.com/github/btcddy/cv/blob/main/salaries_by_college_major.ipynb\" target=\"_parent\"><img src=\"https://colab.research.google.com/assets/colab-badge.svg\" alt=\"Open In Colab\"/></a>"
      ]
    },
    {
      "cell_type": "code",
      "source": [
        "import pandas as pd\n",
        "import csv\n",
        "df = pd.read_csv('salaries_by_college_major .csv')"
      ],
      "metadata": {
        "id": "pyMxWSpgBfHZ"
      },
      "execution_count": 10,
      "outputs": []
    },
    {
      "cell_type": "code",
      "source": [
        "df.head()"
      ],
      "metadata": {
        "colab": {
          "base_uri": "https://localhost:8080/",
          "height": 227
        },
        "id": "RtkEfKWoCkct",
        "outputId": "930a7e08-b61f-44d5-d567-e29a4a8d1834"
      },
      "execution_count": 12,
      "outputs": [
        {
          "output_type": "execute_result",
          "data": {
            "text/plain": [
              "     Undergraduate Major  Starting Median Salary  Mid-Career Median Salary  \\\n",
              "0             Accounting                 46000.0                   77100.0   \n",
              "1  Aerospace Engineering                 57700.0                  101000.0   \n",
              "2            Agriculture                 42600.0                   71900.0   \n",
              "3           Anthropology                 36800.0                   61500.0   \n",
              "4           Architecture                 41600.0                   76800.0   \n",
              "\n",
              "   Mid-Career 10th Percentile Salary  Mid-Career 90th Percentile Salary  \\\n",
              "0                            42200.0                           152000.0   \n",
              "1                            64300.0                           161000.0   \n",
              "2                            36300.0                           150000.0   \n",
              "3                            33800.0                           138000.0   \n",
              "4                            50600.0                           136000.0   \n",
              "\n",
              "      Group  \n",
              "0  Business  \n",
              "1      STEM  \n",
              "2  Business  \n",
              "3      HASS  \n",
              "4  Business  "
            ],
            "text/html": [
              "\n",
              "  <div id=\"df-97542705-7837-4b25-9bba-0ac57dbeb751\">\n",
              "    <div class=\"colab-df-container\">\n",
              "      <div>\n",
              "<style scoped>\n",
              "    .dataframe tbody tr th:only-of-type {\n",
              "        vertical-align: middle;\n",
              "    }\n",
              "\n",
              "    .dataframe tbody tr th {\n",
              "        vertical-align: top;\n",
              "    }\n",
              "\n",
              "    .dataframe thead th {\n",
              "        text-align: right;\n",
              "    }\n",
              "</style>\n",
              "<table border=\"1\" class=\"dataframe\">\n",
              "  <thead>\n",
              "    <tr style=\"text-align: right;\">\n",
              "      <th></th>\n",
              "      <th>Undergraduate Major</th>\n",
              "      <th>Starting Median Salary</th>\n",
              "      <th>Mid-Career Median Salary</th>\n",
              "      <th>Mid-Career 10th Percentile Salary</th>\n",
              "      <th>Mid-Career 90th Percentile Salary</th>\n",
              "      <th>Group</th>\n",
              "    </tr>\n",
              "  </thead>\n",
              "  <tbody>\n",
              "    <tr>\n",
              "      <th>0</th>\n",
              "      <td>Accounting</td>\n",
              "      <td>46000.0</td>\n",
              "      <td>77100.0</td>\n",
              "      <td>42200.0</td>\n",
              "      <td>152000.0</td>\n",
              "      <td>Business</td>\n",
              "    </tr>\n",
              "    <tr>\n",
              "      <th>1</th>\n",
              "      <td>Aerospace Engineering</td>\n",
              "      <td>57700.0</td>\n",
              "      <td>101000.0</td>\n",
              "      <td>64300.0</td>\n",
              "      <td>161000.0</td>\n",
              "      <td>STEM</td>\n",
              "    </tr>\n",
              "    <tr>\n",
              "      <th>2</th>\n",
              "      <td>Agriculture</td>\n",
              "      <td>42600.0</td>\n",
              "      <td>71900.0</td>\n",
              "      <td>36300.0</td>\n",
              "      <td>150000.0</td>\n",
              "      <td>Business</td>\n",
              "    </tr>\n",
              "    <tr>\n",
              "      <th>3</th>\n",
              "      <td>Anthropology</td>\n",
              "      <td>36800.0</td>\n",
              "      <td>61500.0</td>\n",
              "      <td>33800.0</td>\n",
              "      <td>138000.0</td>\n",
              "      <td>HASS</td>\n",
              "    </tr>\n",
              "    <tr>\n",
              "      <th>4</th>\n",
              "      <td>Architecture</td>\n",
              "      <td>41600.0</td>\n",
              "      <td>76800.0</td>\n",
              "      <td>50600.0</td>\n",
              "      <td>136000.0</td>\n",
              "      <td>Business</td>\n",
              "    </tr>\n",
              "  </tbody>\n",
              "</table>\n",
              "</div>\n",
              "      <button class=\"colab-df-convert\" onclick=\"convertToInteractive('df-97542705-7837-4b25-9bba-0ac57dbeb751')\"\n",
              "              title=\"Convert this dataframe to an interactive table.\"\n",
              "              style=\"display:none;\">\n",
              "        \n",
              "  <svg xmlns=\"http://www.w3.org/2000/svg\" height=\"24px\"viewBox=\"0 0 24 24\"\n",
              "       width=\"24px\">\n",
              "    <path d=\"M0 0h24v24H0V0z\" fill=\"none\"/>\n",
              "    <path d=\"M18.56 5.44l.94 2.06.94-2.06 2.06-.94-2.06-.94-.94-2.06-.94 2.06-2.06.94zm-11 1L8.5 8.5l.94-2.06 2.06-.94-2.06-.94L8.5 2.5l-.94 2.06-2.06.94zm10 10l.94 2.06.94-2.06 2.06-.94-2.06-.94-.94-2.06-.94 2.06-2.06.94z\"/><path d=\"M17.41 7.96l-1.37-1.37c-.4-.4-.92-.59-1.43-.59-.52 0-1.04.2-1.43.59L10.3 9.45l-7.72 7.72c-.78.78-.78 2.05 0 2.83L4 21.41c.39.39.9.59 1.41.59.51 0 1.02-.2 1.41-.59l7.78-7.78 2.81-2.81c.8-.78.8-2.07 0-2.86zM5.41 20L4 18.59l7.72-7.72 1.47 1.35L5.41 20z\"/>\n",
              "  </svg>\n",
              "      </button>\n",
              "      \n",
              "  <style>\n",
              "    .colab-df-container {\n",
              "      display:flex;\n",
              "      flex-wrap:wrap;\n",
              "      gap: 12px;\n",
              "    }\n",
              "\n",
              "    .colab-df-convert {\n",
              "      background-color: #E8F0FE;\n",
              "      border: none;\n",
              "      border-radius: 50%;\n",
              "      cursor: pointer;\n",
              "      display: none;\n",
              "      fill: #1967D2;\n",
              "      height: 32px;\n",
              "      padding: 0 0 0 0;\n",
              "      width: 32px;\n",
              "    }\n",
              "\n",
              "    .colab-df-convert:hover {\n",
              "      background-color: #E2EBFA;\n",
              "      box-shadow: 0px 1px 2px rgba(60, 64, 67, 0.3), 0px 1px 3px 1px rgba(60, 64, 67, 0.15);\n",
              "      fill: #174EA6;\n",
              "    }\n",
              "\n",
              "    [theme=dark] .colab-df-convert {\n",
              "      background-color: #3B4455;\n",
              "      fill: #D2E3FC;\n",
              "    }\n",
              "\n",
              "    [theme=dark] .colab-df-convert:hover {\n",
              "      background-color: #434B5C;\n",
              "      box-shadow: 0px 1px 3px 1px rgba(0, 0, 0, 0.15);\n",
              "      filter: drop-shadow(0px 1px 2px rgba(0, 0, 0, 0.3));\n",
              "      fill: #FFFFFF;\n",
              "    }\n",
              "  </style>\n",
              "\n",
              "      <script>\n",
              "        const buttonEl =\n",
              "          document.querySelector('#df-97542705-7837-4b25-9bba-0ac57dbeb751 button.colab-df-convert');\n",
              "        buttonEl.style.display =\n",
              "          google.colab.kernel.accessAllowed ? 'block' : 'none';\n",
              "\n",
              "        async function convertToInteractive(key) {\n",
              "          const element = document.querySelector('#df-97542705-7837-4b25-9bba-0ac57dbeb751');\n",
              "          const dataTable =\n",
              "            await google.colab.kernel.invokeFunction('convertToInteractive',\n",
              "                                                     [key], {});\n",
              "          if (!dataTable) return;\n",
              "\n",
              "          const docLinkHtml = 'Like what you see? Visit the ' +\n",
              "            '<a target=\"_blank\" href=https://colab.research.google.com/notebooks/data_table.ipynb>data table notebook</a>'\n",
              "            + ' to learn more about interactive tables.';\n",
              "          element.innerHTML = '';\n",
              "          dataTable['output_type'] = 'display_data';\n",
              "          await google.colab.output.renderOutput(dataTable, element);\n",
              "          const docLink = document.createElement('div');\n",
              "          docLink.innerHTML = docLinkHtml;\n",
              "          element.appendChild(docLink);\n",
              "        }\n",
              "      </script>\n",
              "    </div>\n",
              "  </div>\n",
              "  "
            ]
          },
          "metadata": {},
          "execution_count": 12
        }
      ]
    },
    {
      "cell_type": "code",
      "source": [
        "df.shape"
      ],
      "metadata": {
        "colab": {
          "base_uri": "https://localhost:8080/"
        },
        "id": "M7Atb63MCmR1",
        "outputId": "a852e989-9f44-46f5-90fa-2470dfc870b3"
      },
      "execution_count": 13,
      "outputs": [
        {
          "output_type": "execute_result",
          "data": {
            "text/plain": [
              "(51, 6)"
            ]
          },
          "metadata": {},
          "execution_count": 13
        }
      ]
    },
    {
      "cell_type": "code",
      "source": [
        "df.columns"
      ],
      "metadata": {
        "colab": {
          "base_uri": "https://localhost:8080/"
        },
        "id": "ancbZD_OC9_7",
        "outputId": "e244f400-6081-49b9-bd07-92e8e333e9b4"
      },
      "execution_count": 14,
      "outputs": [
        {
          "output_type": "execute_result",
          "data": {
            "text/plain": [
              "Index(['Undergraduate Major', 'Starting Median Salary',\n",
              "       'Mid-Career Median Salary', 'Mid-Career 10th Percentile Salary',\n",
              "       'Mid-Career 90th Percentile Salary', 'Group'],\n",
              "      dtype='object')"
            ]
          },
          "metadata": {},
          "execution_count": 14
        }
      ]
    },
    {
      "cell_type": "code",
      "source": [
        "df.isna"
      ],
      "metadata": {
        "colab": {
          "base_uri": "https://localhost:8080/"
        },
        "id": "fIz424qLDCpK",
        "outputId": "8e3ec817-1184-4064-d30e-b441fef44d03"
      },
      "execution_count": 16,
      "outputs": [
        {
          "output_type": "execute_result",
          "data": {
            "text/plain": [
              "<bound method DataFrame.isna of                      Undergraduate Major  Starting Median Salary  \\\n",
              "0                             Accounting                 46000.0   \n",
              "1                  Aerospace Engineering                 57700.0   \n",
              "2                            Agriculture                 42600.0   \n",
              "3                           Anthropology                 36800.0   \n",
              "4                           Architecture                 41600.0   \n",
              "5                            Art History                 35800.0   \n",
              "6                                Biology                 38800.0   \n",
              "7                    Business Management                 43000.0   \n",
              "8                   Chemical Engineering                 63200.0   \n",
              "9                              Chemistry                 42600.0   \n",
              "10                     Civil Engineering                 53900.0   \n",
              "11                        Communications                 38100.0   \n",
              "12                  Computer Engineering                 61400.0   \n",
              "13                      Computer Science                 55900.0   \n",
              "14                          Construction                 53700.0   \n",
              "15                      Criminal Justice                 35000.0   \n",
              "16                                 Drama                 35900.0   \n",
              "17                             Economics                 50100.0   \n",
              "18                             Education                 34900.0   \n",
              "19                Electrical Engineering                 60900.0   \n",
              "20                               English                 38000.0   \n",
              "21                                  Film                 37900.0   \n",
              "22                               Finance                 47900.0   \n",
              "23                              Forestry                 39100.0   \n",
              "24                             Geography                 41200.0   \n",
              "25                               Geology                 43500.0   \n",
              "26                        Graphic Design                 35700.0   \n",
              "27            Health Care Administration                 38800.0   \n",
              "28                               History                 39200.0   \n",
              "29                 Hospitality & Tourism                 37800.0   \n",
              "30                Industrial Engineering                 57700.0   \n",
              "31           Information Technology (IT)                 49100.0   \n",
              "32                       Interior Design                 36100.0   \n",
              "33               International Relations                 40900.0   \n",
              "34                            Journalism                 35600.0   \n",
              "35  Management Information Systems (MIS)                 49200.0   \n",
              "36                             Marketing                 40800.0   \n",
              "37                                  Math                 45400.0   \n",
              "38                Mechanical Engineering                 57900.0   \n",
              "39                                 Music                 35900.0   \n",
              "40                               Nursing                 54200.0   \n",
              "41                             Nutrition                 39900.0   \n",
              "42                            Philosophy                 39900.0   \n",
              "43                   Physician Assistant                 74300.0   \n",
              "44                               Physics                 50300.0   \n",
              "45                     Political Science                 40800.0   \n",
              "46                            Psychology                 35900.0   \n",
              "47                              Religion                 34100.0   \n",
              "48                             Sociology                 36500.0   \n",
              "49                               Spanish                 34000.0   \n",
              "50                 Source: PayScale Inc.                     NaN   \n",
              "\n",
              "    Mid-Career Median Salary  Mid-Career 10th Percentile Salary  \\\n",
              "0                    77100.0                            42200.0   \n",
              "1                   101000.0                            64300.0   \n",
              "2                    71900.0                            36300.0   \n",
              "3                    61500.0                            33800.0   \n",
              "4                    76800.0                            50600.0   \n",
              "5                    64900.0                            28800.0   \n",
              "6                    64800.0                            36900.0   \n",
              "7                    72100.0                            38800.0   \n",
              "8                   107000.0                            71900.0   \n",
              "9                    79900.0                            45300.0   \n",
              "10                   90500.0                            63400.0   \n",
              "11                   70000.0                            37500.0   \n",
              "12                  105000.0                            66100.0   \n",
              "13                   95500.0                            56000.0   \n",
              "14                   88900.0                            56300.0   \n",
              "15                   56300.0                            32200.0   \n",
              "16                   56900.0                            36700.0   \n",
              "17                   98600.0                            50600.0   \n",
              "18                   52000.0                            29300.0   \n",
              "19                  103000.0                            69300.0   \n",
              "20                   64700.0                            33400.0   \n",
              "21                   68500.0                            33900.0   \n",
              "22                   88300.0                            47200.0   \n",
              "23                   62600.0                            41000.0   \n",
              "24                   65500.0                            40000.0   \n",
              "25                   79500.0                            45000.0   \n",
              "26                   59800.0                            36000.0   \n",
              "27                   60600.0                            34600.0   \n",
              "28                   71000.0                            37000.0   \n",
              "29                   57500.0                            35500.0   \n",
              "30                   94700.0                            57100.0   \n",
              "31                   74800.0                            44500.0   \n",
              "32                   53200.0                            35700.0   \n",
              "33                   80900.0                            38200.0   \n",
              "34                   66700.0                            38400.0   \n",
              "35                   82300.0                            45300.0   \n",
              "36                   79600.0                            42100.0   \n",
              "37                   92400.0                            45200.0   \n",
              "38                   93600.0                            63700.0   \n",
              "39                   55000.0                            26700.0   \n",
              "40                   67000.0                            47600.0   \n",
              "41                   55300.0                            33900.0   \n",
              "42                   81200.0                            35500.0   \n",
              "43                   91700.0                            66400.0   \n",
              "44                   97300.0                            56000.0   \n",
              "45                   78200.0                            41200.0   \n",
              "46                   60400.0                            31600.0   \n",
              "47                   52000.0                            29700.0   \n",
              "48                   58200.0                            30700.0   \n",
              "49                   53100.0                            31000.0   \n",
              "50                       NaN                                NaN   \n",
              "\n",
              "    Mid-Career 90th Percentile Salary     Group  \n",
              "0                            152000.0  Business  \n",
              "1                            161000.0      STEM  \n",
              "2                            150000.0  Business  \n",
              "3                            138000.0      HASS  \n",
              "4                            136000.0  Business  \n",
              "5                            125000.0      HASS  \n",
              "6                            135000.0      STEM  \n",
              "7                            147000.0  Business  \n",
              "8                            194000.0      STEM  \n",
              "9                            148000.0      STEM  \n",
              "10                           148000.0      STEM  \n",
              "11                           143000.0      HASS  \n",
              "12                           162000.0      STEM  \n",
              "13                           154000.0      STEM  \n",
              "14                           171000.0  Business  \n",
              "15                           107000.0      HASS  \n",
              "16                           153000.0      HASS  \n",
              "17                           210000.0  Business  \n",
              "18                           102000.0      HASS  \n",
              "19                           168000.0      STEM  \n",
              "20                           133000.0      HASS  \n",
              "21                           136000.0      HASS  \n",
              "22                           195000.0  Business  \n",
              "23                           111000.0  Business  \n",
              "24                           132000.0      HASS  \n",
              "25                           156000.0      STEM  \n",
              "26                           112000.0      HASS  \n",
              "27                           101000.0  Business  \n",
              "28                           149000.0      HASS  \n",
              "29                           124000.0  Business  \n",
              "30                           173000.0      STEM  \n",
              "31                           129000.0      STEM  \n",
              "32                           107000.0      HASS  \n",
              "33                           157000.0      HASS  \n",
              "34                           145000.0      HASS  \n",
              "35                           146000.0      STEM  \n",
              "36                           175000.0  Business  \n",
              "37                           183000.0      STEM  \n",
              "38                           163000.0      STEM  \n",
              "39                           134000.0      HASS  \n",
              "40                            98300.0  Business  \n",
              "41                            99200.0      HASS  \n",
              "42                           168000.0      HASS  \n",
              "43                           124000.0      STEM  \n",
              "44                           178000.0      STEM  \n",
              "45                           168000.0      HASS  \n",
              "46                           127000.0      HASS  \n",
              "47                            96400.0      HASS  \n",
              "48                           118000.0      HASS  \n",
              "49                            96400.0      HASS  \n",
              "50                                NaN       NaN  >"
            ]
          },
          "metadata": {},
          "execution_count": 16
        }
      ]
    },
    {
      "cell_type": "code",
      "source": [
        "df.tail"
      ],
      "metadata": {
        "colab": {
          "base_uri": "https://localhost:8080/"
        },
        "id": "6vvmHS8eDKJ6",
        "outputId": "893b88cc-93cf-4504-db99-cb96b27759d6"
      },
      "execution_count": 17,
      "outputs": [
        {
          "output_type": "execute_result",
          "data": {
            "text/plain": [
              "<bound method NDFrame.tail of                      Undergraduate Major  Starting Median Salary  \\\n",
              "0                             Accounting                 46000.0   \n",
              "1                  Aerospace Engineering                 57700.0   \n",
              "2                            Agriculture                 42600.0   \n",
              "3                           Anthropology                 36800.0   \n",
              "4                           Architecture                 41600.0   \n",
              "5                            Art History                 35800.0   \n",
              "6                                Biology                 38800.0   \n",
              "7                    Business Management                 43000.0   \n",
              "8                   Chemical Engineering                 63200.0   \n",
              "9                              Chemistry                 42600.0   \n",
              "10                     Civil Engineering                 53900.0   \n",
              "11                        Communications                 38100.0   \n",
              "12                  Computer Engineering                 61400.0   \n",
              "13                      Computer Science                 55900.0   \n",
              "14                          Construction                 53700.0   \n",
              "15                      Criminal Justice                 35000.0   \n",
              "16                                 Drama                 35900.0   \n",
              "17                             Economics                 50100.0   \n",
              "18                             Education                 34900.0   \n",
              "19                Electrical Engineering                 60900.0   \n",
              "20                               English                 38000.0   \n",
              "21                                  Film                 37900.0   \n",
              "22                               Finance                 47900.0   \n",
              "23                              Forestry                 39100.0   \n",
              "24                             Geography                 41200.0   \n",
              "25                               Geology                 43500.0   \n",
              "26                        Graphic Design                 35700.0   \n",
              "27            Health Care Administration                 38800.0   \n",
              "28                               History                 39200.0   \n",
              "29                 Hospitality & Tourism                 37800.0   \n",
              "30                Industrial Engineering                 57700.0   \n",
              "31           Information Technology (IT)                 49100.0   \n",
              "32                       Interior Design                 36100.0   \n",
              "33               International Relations                 40900.0   \n",
              "34                            Journalism                 35600.0   \n",
              "35  Management Information Systems (MIS)                 49200.0   \n",
              "36                             Marketing                 40800.0   \n",
              "37                                  Math                 45400.0   \n",
              "38                Mechanical Engineering                 57900.0   \n",
              "39                                 Music                 35900.0   \n",
              "40                               Nursing                 54200.0   \n",
              "41                             Nutrition                 39900.0   \n",
              "42                            Philosophy                 39900.0   \n",
              "43                   Physician Assistant                 74300.0   \n",
              "44                               Physics                 50300.0   \n",
              "45                     Political Science                 40800.0   \n",
              "46                            Psychology                 35900.0   \n",
              "47                              Religion                 34100.0   \n",
              "48                             Sociology                 36500.0   \n",
              "49                               Spanish                 34000.0   \n",
              "50                 Source: PayScale Inc.                     NaN   \n",
              "\n",
              "    Mid-Career Median Salary  Mid-Career 10th Percentile Salary  \\\n",
              "0                    77100.0                            42200.0   \n",
              "1                   101000.0                            64300.0   \n",
              "2                    71900.0                            36300.0   \n",
              "3                    61500.0                            33800.0   \n",
              "4                    76800.0                            50600.0   \n",
              "5                    64900.0                            28800.0   \n",
              "6                    64800.0                            36900.0   \n",
              "7                    72100.0                            38800.0   \n",
              "8                   107000.0                            71900.0   \n",
              "9                    79900.0                            45300.0   \n",
              "10                   90500.0                            63400.0   \n",
              "11                   70000.0                            37500.0   \n",
              "12                  105000.0                            66100.0   \n",
              "13                   95500.0                            56000.0   \n",
              "14                   88900.0                            56300.0   \n",
              "15                   56300.0                            32200.0   \n",
              "16                   56900.0                            36700.0   \n",
              "17                   98600.0                            50600.0   \n",
              "18                   52000.0                            29300.0   \n",
              "19                  103000.0                            69300.0   \n",
              "20                   64700.0                            33400.0   \n",
              "21                   68500.0                            33900.0   \n",
              "22                   88300.0                            47200.0   \n",
              "23                   62600.0                            41000.0   \n",
              "24                   65500.0                            40000.0   \n",
              "25                   79500.0                            45000.0   \n",
              "26                   59800.0                            36000.0   \n",
              "27                   60600.0                            34600.0   \n",
              "28                   71000.0                            37000.0   \n",
              "29                   57500.0                            35500.0   \n",
              "30                   94700.0                            57100.0   \n",
              "31                   74800.0                            44500.0   \n",
              "32                   53200.0                            35700.0   \n",
              "33                   80900.0                            38200.0   \n",
              "34                   66700.0                            38400.0   \n",
              "35                   82300.0                            45300.0   \n",
              "36                   79600.0                            42100.0   \n",
              "37                   92400.0                            45200.0   \n",
              "38                   93600.0                            63700.0   \n",
              "39                   55000.0                            26700.0   \n",
              "40                   67000.0                            47600.0   \n",
              "41                   55300.0                            33900.0   \n",
              "42                   81200.0                            35500.0   \n",
              "43                   91700.0                            66400.0   \n",
              "44                   97300.0                            56000.0   \n",
              "45                   78200.0                            41200.0   \n",
              "46                   60400.0                            31600.0   \n",
              "47                   52000.0                            29700.0   \n",
              "48                   58200.0                            30700.0   \n",
              "49                   53100.0                            31000.0   \n",
              "50                       NaN                                NaN   \n",
              "\n",
              "    Mid-Career 90th Percentile Salary     Group  \n",
              "0                            152000.0  Business  \n",
              "1                            161000.0      STEM  \n",
              "2                            150000.0  Business  \n",
              "3                            138000.0      HASS  \n",
              "4                            136000.0  Business  \n",
              "5                            125000.0      HASS  \n",
              "6                            135000.0      STEM  \n",
              "7                            147000.0  Business  \n",
              "8                            194000.0      STEM  \n",
              "9                            148000.0      STEM  \n",
              "10                           148000.0      STEM  \n",
              "11                           143000.0      HASS  \n",
              "12                           162000.0      STEM  \n",
              "13                           154000.0      STEM  \n",
              "14                           171000.0  Business  \n",
              "15                           107000.0      HASS  \n",
              "16                           153000.0      HASS  \n",
              "17                           210000.0  Business  \n",
              "18                           102000.0      HASS  \n",
              "19                           168000.0      STEM  \n",
              "20                           133000.0      HASS  \n",
              "21                           136000.0      HASS  \n",
              "22                           195000.0  Business  \n",
              "23                           111000.0  Business  \n",
              "24                           132000.0      HASS  \n",
              "25                           156000.0      STEM  \n",
              "26                           112000.0      HASS  \n",
              "27                           101000.0  Business  \n",
              "28                           149000.0      HASS  \n",
              "29                           124000.0  Business  \n",
              "30                           173000.0      STEM  \n",
              "31                           129000.0      STEM  \n",
              "32                           107000.0      HASS  \n",
              "33                           157000.0      HASS  \n",
              "34                           145000.0      HASS  \n",
              "35                           146000.0      STEM  \n",
              "36                           175000.0  Business  \n",
              "37                           183000.0      STEM  \n",
              "38                           163000.0      STEM  \n",
              "39                           134000.0      HASS  \n",
              "40                            98300.0  Business  \n",
              "41                            99200.0      HASS  \n",
              "42                           168000.0      HASS  \n",
              "43                           124000.0      STEM  \n",
              "44                           178000.0      STEM  \n",
              "45                           168000.0      HASS  \n",
              "46                           127000.0      HASS  \n",
              "47                            96400.0      HASS  \n",
              "48                           118000.0      HASS  \n",
              "49                            96400.0      HASS  \n",
              "50                                NaN       NaN  >"
            ]
          },
          "metadata": {},
          "execution_count": 17
        }
      ]
    },
    {
      "cell_type": "code",
      "source": [
        "clean_df = df.dropna()"
      ],
      "metadata": {
        "id": "9Xp59xegDWAf"
      },
      "execution_count": 18,
      "outputs": []
    },
    {
      "cell_type": "code",
      "source": [
        "clean_df.tail"
      ],
      "metadata": {
        "colab": {
          "base_uri": "https://localhost:8080/"
        },
        "id": "6XYA9FQFDgWl",
        "outputId": "bf1e86a7-c3a2-4125-ebeb-bf2b39b3aa94"
      },
      "execution_count": 19,
      "outputs": [
        {
          "output_type": "execute_result",
          "data": {
            "text/plain": [
              "<bound method NDFrame.tail of                      Undergraduate Major  Starting Median Salary  \\\n",
              "0                             Accounting                 46000.0   \n",
              "1                  Aerospace Engineering                 57700.0   \n",
              "2                            Agriculture                 42600.0   \n",
              "3                           Anthropology                 36800.0   \n",
              "4                           Architecture                 41600.0   \n",
              "5                            Art History                 35800.0   \n",
              "6                                Biology                 38800.0   \n",
              "7                    Business Management                 43000.0   \n",
              "8                   Chemical Engineering                 63200.0   \n",
              "9                              Chemistry                 42600.0   \n",
              "10                     Civil Engineering                 53900.0   \n",
              "11                        Communications                 38100.0   \n",
              "12                  Computer Engineering                 61400.0   \n",
              "13                      Computer Science                 55900.0   \n",
              "14                          Construction                 53700.0   \n",
              "15                      Criminal Justice                 35000.0   \n",
              "16                                 Drama                 35900.0   \n",
              "17                             Economics                 50100.0   \n",
              "18                             Education                 34900.0   \n",
              "19                Electrical Engineering                 60900.0   \n",
              "20                               English                 38000.0   \n",
              "21                                  Film                 37900.0   \n",
              "22                               Finance                 47900.0   \n",
              "23                              Forestry                 39100.0   \n",
              "24                             Geography                 41200.0   \n",
              "25                               Geology                 43500.0   \n",
              "26                        Graphic Design                 35700.0   \n",
              "27            Health Care Administration                 38800.0   \n",
              "28                               History                 39200.0   \n",
              "29                 Hospitality & Tourism                 37800.0   \n",
              "30                Industrial Engineering                 57700.0   \n",
              "31           Information Technology (IT)                 49100.0   \n",
              "32                       Interior Design                 36100.0   \n",
              "33               International Relations                 40900.0   \n",
              "34                            Journalism                 35600.0   \n",
              "35  Management Information Systems (MIS)                 49200.0   \n",
              "36                             Marketing                 40800.0   \n",
              "37                                  Math                 45400.0   \n",
              "38                Mechanical Engineering                 57900.0   \n",
              "39                                 Music                 35900.0   \n",
              "40                               Nursing                 54200.0   \n",
              "41                             Nutrition                 39900.0   \n",
              "42                            Philosophy                 39900.0   \n",
              "43                   Physician Assistant                 74300.0   \n",
              "44                               Physics                 50300.0   \n",
              "45                     Political Science                 40800.0   \n",
              "46                            Psychology                 35900.0   \n",
              "47                              Religion                 34100.0   \n",
              "48                             Sociology                 36500.0   \n",
              "49                               Spanish                 34000.0   \n",
              "\n",
              "    Mid-Career Median Salary  Mid-Career 10th Percentile Salary  \\\n",
              "0                    77100.0                            42200.0   \n",
              "1                   101000.0                            64300.0   \n",
              "2                    71900.0                            36300.0   \n",
              "3                    61500.0                            33800.0   \n",
              "4                    76800.0                            50600.0   \n",
              "5                    64900.0                            28800.0   \n",
              "6                    64800.0                            36900.0   \n",
              "7                    72100.0                            38800.0   \n",
              "8                   107000.0                            71900.0   \n",
              "9                    79900.0                            45300.0   \n",
              "10                   90500.0                            63400.0   \n",
              "11                   70000.0                            37500.0   \n",
              "12                  105000.0                            66100.0   \n",
              "13                   95500.0                            56000.0   \n",
              "14                   88900.0                            56300.0   \n",
              "15                   56300.0                            32200.0   \n",
              "16                   56900.0                            36700.0   \n",
              "17                   98600.0                            50600.0   \n",
              "18                   52000.0                            29300.0   \n",
              "19                  103000.0                            69300.0   \n",
              "20                   64700.0                            33400.0   \n",
              "21                   68500.0                            33900.0   \n",
              "22                   88300.0                            47200.0   \n",
              "23                   62600.0                            41000.0   \n",
              "24                   65500.0                            40000.0   \n",
              "25                   79500.0                            45000.0   \n",
              "26                   59800.0                            36000.0   \n",
              "27                   60600.0                            34600.0   \n",
              "28                   71000.0                            37000.0   \n",
              "29                   57500.0                            35500.0   \n",
              "30                   94700.0                            57100.0   \n",
              "31                   74800.0                            44500.0   \n",
              "32                   53200.0                            35700.0   \n",
              "33                   80900.0                            38200.0   \n",
              "34                   66700.0                            38400.0   \n",
              "35                   82300.0                            45300.0   \n",
              "36                   79600.0                            42100.0   \n",
              "37                   92400.0                            45200.0   \n",
              "38                   93600.0                            63700.0   \n",
              "39                   55000.0                            26700.0   \n",
              "40                   67000.0                            47600.0   \n",
              "41                   55300.0                            33900.0   \n",
              "42                   81200.0                            35500.0   \n",
              "43                   91700.0                            66400.0   \n",
              "44                   97300.0                            56000.0   \n",
              "45                   78200.0                            41200.0   \n",
              "46                   60400.0                            31600.0   \n",
              "47                   52000.0                            29700.0   \n",
              "48                   58200.0                            30700.0   \n",
              "49                   53100.0                            31000.0   \n",
              "\n",
              "    Mid-Career 90th Percentile Salary     Group  \n",
              "0                            152000.0  Business  \n",
              "1                            161000.0      STEM  \n",
              "2                            150000.0  Business  \n",
              "3                            138000.0      HASS  \n",
              "4                            136000.0  Business  \n",
              "5                            125000.0      HASS  \n",
              "6                            135000.0      STEM  \n",
              "7                            147000.0  Business  \n",
              "8                            194000.0      STEM  \n",
              "9                            148000.0      STEM  \n",
              "10                           148000.0      STEM  \n",
              "11                           143000.0      HASS  \n",
              "12                           162000.0      STEM  \n",
              "13                           154000.0      STEM  \n",
              "14                           171000.0  Business  \n",
              "15                           107000.0      HASS  \n",
              "16                           153000.0      HASS  \n",
              "17                           210000.0  Business  \n",
              "18                           102000.0      HASS  \n",
              "19                           168000.0      STEM  \n",
              "20                           133000.0      HASS  \n",
              "21                           136000.0      HASS  \n",
              "22                           195000.0  Business  \n",
              "23                           111000.0  Business  \n",
              "24                           132000.0      HASS  \n",
              "25                           156000.0      STEM  \n",
              "26                           112000.0      HASS  \n",
              "27                           101000.0  Business  \n",
              "28                           149000.0      HASS  \n",
              "29                           124000.0  Business  \n",
              "30                           173000.0      STEM  \n",
              "31                           129000.0      STEM  \n",
              "32                           107000.0      HASS  \n",
              "33                           157000.0      HASS  \n",
              "34                           145000.0      HASS  \n",
              "35                           146000.0      STEM  \n",
              "36                           175000.0  Business  \n",
              "37                           183000.0      STEM  \n",
              "38                           163000.0      STEM  \n",
              "39                           134000.0      HASS  \n",
              "40                            98300.0  Business  \n",
              "41                            99200.0      HASS  \n",
              "42                           168000.0      HASS  \n",
              "43                           124000.0      STEM  \n",
              "44                           178000.0      STEM  \n",
              "45                           168000.0      HASS  \n",
              "46                           127000.0      HASS  \n",
              "47                            96400.0      HASS  \n",
              "48                           118000.0      HASS  \n",
              "49                            96400.0      HASS  >"
            ]
          },
          "metadata": {},
          "execution_count": 19
        }
      ]
    },
    {
      "cell_type": "code",
      "source": [
        "clean_df['Starting Median Salary']"
      ],
      "metadata": {
        "colab": {
          "base_uri": "https://localhost:8080/"
        },
        "id": "lOz_hnEjDi2K",
        "outputId": "d42755c1-e817-4f5c-e7da-120dd6d68d22"
      },
      "execution_count": 20,
      "outputs": [
        {
          "output_type": "execute_result",
          "data": {
            "text/plain": [
              "0     46000.0\n",
              "1     57700.0\n",
              "2     42600.0\n",
              "3     36800.0\n",
              "4     41600.0\n",
              "5     35800.0\n",
              "6     38800.0\n",
              "7     43000.0\n",
              "8     63200.0\n",
              "9     42600.0\n",
              "10    53900.0\n",
              "11    38100.0\n",
              "12    61400.0\n",
              "13    55900.0\n",
              "14    53700.0\n",
              "15    35000.0\n",
              "16    35900.0\n",
              "17    50100.0\n",
              "18    34900.0\n",
              "19    60900.0\n",
              "20    38000.0\n",
              "21    37900.0\n",
              "22    47900.0\n",
              "23    39100.0\n",
              "24    41200.0\n",
              "25    43500.0\n",
              "26    35700.0\n",
              "27    38800.0\n",
              "28    39200.0\n",
              "29    37800.0\n",
              "30    57700.0\n",
              "31    49100.0\n",
              "32    36100.0\n",
              "33    40900.0\n",
              "34    35600.0\n",
              "35    49200.0\n",
              "36    40800.0\n",
              "37    45400.0\n",
              "38    57900.0\n",
              "39    35900.0\n",
              "40    54200.0\n",
              "41    39900.0\n",
              "42    39900.0\n",
              "43    74300.0\n",
              "44    50300.0\n",
              "45    40800.0\n",
              "46    35900.0\n",
              "47    34100.0\n",
              "48    36500.0\n",
              "49    34000.0\n",
              "Name: Starting Median Salary, dtype: float64"
            ]
          },
          "metadata": {},
          "execution_count": 20
        }
      ]
    },
    {
      "cell_type": "code",
      "source": [
        "clean_df['Starting Median Salary'].max()"
      ],
      "metadata": {
        "colab": {
          "base_uri": "https://localhost:8080/"
        },
        "id": "4SUFZC2NEG5v",
        "outputId": "f2a23d99-b847-4830-a7ab-bac860eaa268"
      },
      "execution_count": 21,
      "outputs": [
        {
          "output_type": "execute_result",
          "data": {
            "text/plain": [
              "74300.0"
            ]
          },
          "metadata": {},
          "execution_count": 21
        }
      ]
    },
    {
      "cell_type": "code",
      "source": [
        "clean_df['Starting Median Salary'].idxmax()"
      ],
      "metadata": {
        "colab": {
          "base_uri": "https://localhost:8080/"
        },
        "id": "5p3OLwiXESID",
        "outputId": "8c94f89a-5e01-4a59-d006-180154c6f63b"
      },
      "execution_count": 23,
      "outputs": [
        {
          "output_type": "execute_result",
          "data": {
            "text/plain": [
              "43"
            ]
          },
          "metadata": {},
          "execution_count": 23
        }
      ]
    },
    {
      "cell_type": "code",
      "source": [
        "clean_df['Undergraduate Major'].loc[43]"
      ],
      "metadata": {
        "colab": {
          "base_uri": "https://localhost:8080/",
          "height": 35
        },
        "id": "8Un4jSvvEchE",
        "outputId": "8950b25b-561a-4ad0-d1b6-068a919dc342"
      },
      "execution_count": 24,
      "outputs": [
        {
          "output_type": "execute_result",
          "data": {
            "text/plain": [
              "'Physician Assistant'"
            ],
            "application/vnd.google.colaboratory.intrinsic+json": {
              "type": "string"
            }
          },
          "metadata": {},
          "execution_count": 24
        }
      ]
    },
    {
      "cell_type": "code",
      "source": [
        "clean_df['Undergraduate Major'][43]"
      ],
      "metadata": {
        "colab": {
          "base_uri": "https://localhost:8080/",
          "height": 35
        },
        "id": "vqDYRusjEpzH",
        "outputId": "88d44e0b-62cb-46bb-8b34-9d80cbb98179"
      },
      "execution_count": 25,
      "outputs": [
        {
          "output_type": "execute_result",
          "data": {
            "text/plain": [
              "'Physician Assistant'"
            ],
            "application/vnd.google.colaboratory.intrinsic+json": {
              "type": "string"
            }
          },
          "metadata": {},
          "execution_count": 25
        }
      ]
    },
    {
      "cell_type": "code",
      "source": [
        "clean_df.loc[43]"
      ],
      "metadata": {
        "colab": {
          "base_uri": "https://localhost:8080/"
        },
        "id": "yXXYxEABE1Sl",
        "outputId": "456946a1-1023-4224-ed4a-5a25206aa479"
      },
      "execution_count": 26,
      "outputs": [
        {
          "output_type": "execute_result",
          "data": {
            "text/plain": [
              "Undergraduate Major                  Physician Assistant\n",
              "Starting Median Salary                           74300.0\n",
              "Mid-Career Median Salary                         91700.0\n",
              "Mid-Career 10th Percentile Salary                66400.0\n",
              "Mid-Career 90th Percentile Salary               124000.0\n",
              "Group                                               STEM\n",
              "Name: 43, dtype: object"
            ]
          },
          "metadata": {},
          "execution_count": 26
        }
      ]
    },
    {
      "cell_type": "code",
      "source": [
        "clean_df['Undergraduate Major'][10]"
      ],
      "metadata": {
        "colab": {
          "base_uri": "https://localhost:8080/",
          "height": 35
        },
        "id": "LZOADJ7oIR81",
        "outputId": "61a396f2-f405-4326-9ff8-6568d3620652"
      },
      "execution_count": 28,
      "outputs": [
        {
          "output_type": "execute_result",
          "data": {
            "text/plain": [
              "'Civil Engineering'"
            ],
            "application/vnd.google.colaboratory.intrinsic+json": {
              "type": "string"
            }
          },
          "metadata": {},
          "execution_count": 28
        }
      ]
    },
    {
      "cell_type": "code",
      "source": [
        "clean_df['Undergraduate Major']"
      ],
      "metadata": {
        "colab": {
          "base_uri": "https://localhost:8080/"
        },
        "id": "LA8eb9ZnIewG",
        "outputId": "64903ecd-771e-4b9a-d2d5-ebe4d5a53732"
      },
      "execution_count": 29,
      "outputs": [
        {
          "output_type": "execute_result",
          "data": {
            "text/plain": [
              "0                               Accounting\n",
              "1                    Aerospace Engineering\n",
              "2                              Agriculture\n",
              "3                             Anthropology\n",
              "4                             Architecture\n",
              "5                              Art History\n",
              "6                                  Biology\n",
              "7                      Business Management\n",
              "8                     Chemical Engineering\n",
              "9                                Chemistry\n",
              "10                       Civil Engineering\n",
              "11                          Communications\n",
              "12                    Computer Engineering\n",
              "13                        Computer Science\n",
              "14                            Construction\n",
              "15                        Criminal Justice\n",
              "16                                   Drama\n",
              "17                               Economics\n",
              "18                               Education\n",
              "19                  Electrical Engineering\n",
              "20                                 English\n",
              "21                                    Film\n",
              "22                                 Finance\n",
              "23                                Forestry\n",
              "24                               Geography\n",
              "25                                 Geology\n",
              "26                          Graphic Design\n",
              "27              Health Care Administration\n",
              "28                                 History\n",
              "29                   Hospitality & Tourism\n",
              "30                  Industrial Engineering\n",
              "31             Information Technology (IT)\n",
              "32                         Interior Design\n",
              "33                 International Relations\n",
              "34                              Journalism\n",
              "35    Management Information Systems (MIS)\n",
              "36                               Marketing\n",
              "37                                    Math\n",
              "38                  Mechanical Engineering\n",
              "39                                   Music\n",
              "40                                 Nursing\n",
              "41                               Nutrition\n",
              "42                              Philosophy\n",
              "43                     Physician Assistant\n",
              "44                                 Physics\n",
              "45                       Political Science\n",
              "46                              Psychology\n",
              "47                                Religion\n",
              "48                               Sociology\n",
              "49                                 Spanish\n",
              "Name: Undergraduate Major, dtype: object"
            ]
          },
          "metadata": {},
          "execution_count": 29
        }
      ]
    },
    {
      "cell_type": "code",
      "source": [
        "clean_df['Mid-Career 90th Percentile Salary']"
      ],
      "metadata": {
        "colab": {
          "base_uri": "https://localhost:8080/"
        },
        "id": "S1RCO2HfIvjO",
        "outputId": "b9af8470-1d52-441e-abf9-bc6e06bc7805"
      },
      "execution_count": 30,
      "outputs": [
        {
          "output_type": "execute_result",
          "data": {
            "text/plain": [
              "0     152000.0\n",
              "1     161000.0\n",
              "2     150000.0\n",
              "3     138000.0\n",
              "4     136000.0\n",
              "5     125000.0\n",
              "6     135000.0\n",
              "7     147000.0\n",
              "8     194000.0\n",
              "9     148000.0\n",
              "10    148000.0\n",
              "11    143000.0\n",
              "12    162000.0\n",
              "13    154000.0\n",
              "14    171000.0\n",
              "15    107000.0\n",
              "16    153000.0\n",
              "17    210000.0\n",
              "18    102000.0\n",
              "19    168000.0\n",
              "20    133000.0\n",
              "21    136000.0\n",
              "22    195000.0\n",
              "23    111000.0\n",
              "24    132000.0\n",
              "25    156000.0\n",
              "26    112000.0\n",
              "27    101000.0\n",
              "28    149000.0\n",
              "29    124000.0\n",
              "30    173000.0\n",
              "31    129000.0\n",
              "32    107000.0\n",
              "33    157000.0\n",
              "34    145000.0\n",
              "35    146000.0\n",
              "36    175000.0\n",
              "37    183000.0\n",
              "38    163000.0\n",
              "39    134000.0\n",
              "40     98300.0\n",
              "41     99200.0\n",
              "42    168000.0\n",
              "43    124000.0\n",
              "44    178000.0\n",
              "45    168000.0\n",
              "46    127000.0\n",
              "47     96400.0\n",
              "48    118000.0\n",
              "49     96400.0\n",
              "Name: Mid-Career 90th Percentile Salary, dtype: float64"
            ]
          },
          "metadata": {},
          "execution_count": 30
        }
      ]
    },
    {
      "cell_type": "code",
      "source": [
        "clean_df['Mid-Career Median Salary'].max()"
      ],
      "metadata": {
        "colab": {
          "base_uri": "https://localhost:8080/"
        },
        "id": "AcKrcGVPI220",
        "outputId": "50af6f82-bc34-42d6-d3c8-178af94c1384"
      },
      "execution_count": 31,
      "outputs": [
        {
          "output_type": "execute_result",
          "data": {
            "text/plain": [
              "107000.0"
            ]
          },
          "metadata": {},
          "execution_count": 31
        }
      ]
    },
    {
      "cell_type": "code",
      "source": [
        "print(f\"Index for the max mid career salary: {clean_df['Mid-Career Median Salary'].idxmax()}\")"
      ],
      "metadata": {
        "colab": {
          "base_uri": "https://localhost:8080/"
        },
        "id": "sgskDszxJDF3",
        "outputId": "dcec8732-20e1-4aac-cba1-53d54658f922"
      },
      "execution_count": 35,
      "outputs": [
        {
          "output_type": "stream",
          "name": "stdout",
          "text": [
            "Index for the max mid career salary: 8\n"
          ]
        }
      ]
    },
    {
      "cell_type": "code",
      "source": [
        "clean_df['Mid-Career Median Salary'].idxmax()"
      ],
      "metadata": {
        "colab": {
          "base_uri": "https://localhost:8080/"
        },
        "id": "ZIEoLtMAJcd7",
        "outputId": "92e8b61a-f6e0-437a-ea61-19bd1ee350e7"
      },
      "execution_count": 36,
      "outputs": [
        {
          "output_type": "execute_result",
          "data": {
            "text/plain": [
              "8"
            ]
          },
          "metadata": {},
          "execution_count": 36
        }
      ]
    },
    {
      "cell_type": "code",
      "source": [
        "clean_df['Undergraduate Major'][8]\n"
      ],
      "metadata": {
        "colab": {
          "base_uri": "https://localhost:8080/",
          "height": 35
        },
        "id": "r8N7JQvMJwag",
        "outputId": "e9bfd4d6-62da-4864-e15d-5aeaac396304"
      },
      "execution_count": 38,
      "outputs": [
        {
          "output_type": "execute_result",
          "data": {
            "text/plain": [
              "'Chemical Engineering'"
            ],
            "application/vnd.google.colaboratory.intrinsic+json": {
              "type": "string"
            }
          },
          "metadata": {},
          "execution_count": 38
        }
      ]
    },
    {
      "cell_type": "code",
      "source": [
        "print(clean_df['Starting Median Salary'].min())\n",
        "clean_df['Undergraduate Major'].loc()[clean_df['Starting Median Salary'].idxmin()]"
      ],
      "metadata": {
        "colab": {
          "base_uri": "https://localhost:8080/",
          "height": 52
        },
        "id": "3j8KqorFJ2eQ",
        "outputId": "b07ba2bf-d4be-4767-9ecd-4d88d62fda4e"
      },
      "execution_count": 54,
      "outputs": [
        {
          "output_type": "stream",
          "name": "stdout",
          "text": [
            "34000.0\n"
          ]
        },
        {
          "output_type": "execute_result",
          "data": {
            "text/plain": [
              "'Spanish'"
            ],
            "application/vnd.google.colaboratory.intrinsic+json": {
              "type": "string"
            }
          },
          "metadata": {},
          "execution_count": 54
        }
      ]
    },
    {
      "cell_type": "code",
      "source": [
        "clean_df['Mid-Career Median Salary'].idx()"
      ],
      "metadata": {
        "colab": {
          "base_uri": "https://localhost:8080/"
        },
        "id": "CqqFWmnBKWw4",
        "outputId": "90d02995-6013-47f3-80a5-23efe33dc526"
      },
      "execution_count": 42,
      "outputs": [
        {
          "output_type": "execute_result",
          "data": {
            "text/plain": [
              "18"
            ]
          },
          "metadata": {},
          "execution_count": 42
        }
      ]
    },
    {
      "cell_type": "code",
      "source": [
        "clean_df['Undergraduate Major'][10]"
      ],
      "metadata": {
        "colab": {
          "base_uri": "https://localhost:8080/",
          "height": 35
        },
        "id": "TCmgufF5KdO1",
        "outputId": "6c77e0bb-d273-457e-be7b-c68710e39f2c"
      },
      "execution_count": 43,
      "outputs": [
        {
          "output_type": "execute_result",
          "data": {
            "text/plain": [
              "'Civil Engineering'"
            ],
            "application/vnd.google.colaboratory.intrinsic+json": {
              "type": "string"
            }
          },
          "metadata": {},
          "execution_count": 43
        }
      ]
    },
    {
      "cell_type": "code",
      "source": [
        "clean_df.loc[clean_df['Mid-Career Median Salary'].idxmin()]"
      ],
      "metadata": {
        "colab": {
          "base_uri": "https://localhost:8080/"
        },
        "id": "oCGImyzjKsAK",
        "outputId": "68ddf61c-afe1-42cf-bc3f-0bd970b8ec29"
      },
      "execution_count": 55,
      "outputs": [
        {
          "output_type": "execute_result",
          "data": {
            "text/plain": [
              "Undergraduate Major                  Education\n",
              "Starting Median Salary                 34900.0\n",
              "Mid-Career Median Salary               52000.0\n",
              "Mid-Career 10th Percentile Salary      29300.0\n",
              "Mid-Career 90th Percentile Salary     102000.0\n",
              "Group                                     HASS\n",
              "Name: 18, dtype: object"
            ]
          },
          "metadata": {},
          "execution_count": 55
        }
      ]
    },
    {
      "cell_type": "code",
      "source": [
        "clean_df['Mid-Career 90th Percentile Salary'] - clean_df['Mid-Career 10th Percentile Salary']"
      ],
      "metadata": {
        "colab": {
          "base_uri": "https://localhost:8080/"
        },
        "id": "RWZB-qAHL8Mr",
        "outputId": "6880d2b2-228b-4a53-b54c-cbc47997f2d4"
      },
      "execution_count": 56,
      "outputs": [
        {
          "output_type": "execute_result",
          "data": {
            "text/plain": [
              "0     109800.0\n",
              "1      96700.0\n",
              "2     113700.0\n",
              "3     104200.0\n",
              "4      85400.0\n",
              "5      96200.0\n",
              "6      98100.0\n",
              "7     108200.0\n",
              "8     122100.0\n",
              "9     102700.0\n",
              "10     84600.0\n",
              "11    105500.0\n",
              "12     95900.0\n",
              "13     98000.0\n",
              "14    114700.0\n",
              "15     74800.0\n",
              "16    116300.0\n",
              "17    159400.0\n",
              "18     72700.0\n",
              "19     98700.0\n",
              "20     99600.0\n",
              "21    102100.0\n",
              "22    147800.0\n",
              "23     70000.0\n",
              "24     92000.0\n",
              "25    111000.0\n",
              "26     76000.0\n",
              "27     66400.0\n",
              "28    112000.0\n",
              "29     88500.0\n",
              "30    115900.0\n",
              "31     84500.0\n",
              "32     71300.0\n",
              "33    118800.0\n",
              "34    106600.0\n",
              "35    100700.0\n",
              "36    132900.0\n",
              "37    137800.0\n",
              "38     99300.0\n",
              "39    107300.0\n",
              "40     50700.0\n",
              "41     65300.0\n",
              "42    132500.0\n",
              "43     57600.0\n",
              "44    122000.0\n",
              "45    126800.0\n",
              "46     95400.0\n",
              "47     66700.0\n",
              "48     87300.0\n",
              "49     65400.0\n",
              "dtype: float64"
            ]
          },
          "metadata": {},
          "execution_count": 56
        }
      ]
    },
    {
      "cell_type": "code",
      "source": [
        "spread_col = clean_df['Mid-Career 90th Percentile Salary'] - clean_df['Mid-Career 10th Percentile Salary']\n",
        "clean_df.insert(1, 'Spread', spread_col)\n",
        "clean_df.head()"
      ],
      "metadata": {
        "colab": {
          "base_uri": "https://localhost:8080/",
          "height": 282
        },
        "id": "IK3rarQIMRHA",
        "outputId": "f39ae376-f9bd-474a-957f-ae17383b3eb6"
      },
      "execution_count": 57,
      "outputs": [
        {
          "output_type": "execute_result",
          "data": {
            "text/plain": [
              "     Undergraduate Major    Spread  Starting Median Salary  \\\n",
              "0             Accounting  109800.0                 46000.0   \n",
              "1  Aerospace Engineering   96700.0                 57700.0   \n",
              "2            Agriculture  113700.0                 42600.0   \n",
              "3           Anthropology  104200.0                 36800.0   \n",
              "4           Architecture   85400.0                 41600.0   \n",
              "\n",
              "   Mid-Career Median Salary  Mid-Career 10th Percentile Salary  \\\n",
              "0                   77100.0                            42200.0   \n",
              "1                  101000.0                            64300.0   \n",
              "2                   71900.0                            36300.0   \n",
              "3                   61500.0                            33800.0   \n",
              "4                   76800.0                            50600.0   \n",
              "\n",
              "   Mid-Career 90th Percentile Salary     Group  \n",
              "0                           152000.0  Business  \n",
              "1                           161000.0      STEM  \n",
              "2                           150000.0  Business  \n",
              "3                           138000.0      HASS  \n",
              "4                           136000.0  Business  "
            ],
            "text/html": [
              "\n",
              "  <div id=\"df-a1367afa-ba55-4baf-8196-f8414095c86c\">\n",
              "    <div class=\"colab-df-container\">\n",
              "      <div>\n",
              "<style scoped>\n",
              "    .dataframe tbody tr th:only-of-type {\n",
              "        vertical-align: middle;\n",
              "    }\n",
              "\n",
              "    .dataframe tbody tr th {\n",
              "        vertical-align: top;\n",
              "    }\n",
              "\n",
              "    .dataframe thead th {\n",
              "        text-align: right;\n",
              "    }\n",
              "</style>\n",
              "<table border=\"1\" class=\"dataframe\">\n",
              "  <thead>\n",
              "    <tr style=\"text-align: right;\">\n",
              "      <th></th>\n",
              "      <th>Undergraduate Major</th>\n",
              "      <th>Spread</th>\n",
              "      <th>Starting Median Salary</th>\n",
              "      <th>Mid-Career Median Salary</th>\n",
              "      <th>Mid-Career 10th Percentile Salary</th>\n",
              "      <th>Mid-Career 90th Percentile Salary</th>\n",
              "      <th>Group</th>\n",
              "    </tr>\n",
              "  </thead>\n",
              "  <tbody>\n",
              "    <tr>\n",
              "      <th>0</th>\n",
              "      <td>Accounting</td>\n",
              "      <td>109800.0</td>\n",
              "      <td>46000.0</td>\n",
              "      <td>77100.0</td>\n",
              "      <td>42200.0</td>\n",
              "      <td>152000.0</td>\n",
              "      <td>Business</td>\n",
              "    </tr>\n",
              "    <tr>\n",
              "      <th>1</th>\n",
              "      <td>Aerospace Engineering</td>\n",
              "      <td>96700.0</td>\n",
              "      <td>57700.0</td>\n",
              "      <td>101000.0</td>\n",
              "      <td>64300.0</td>\n",
              "      <td>161000.0</td>\n",
              "      <td>STEM</td>\n",
              "    </tr>\n",
              "    <tr>\n",
              "      <th>2</th>\n",
              "      <td>Agriculture</td>\n",
              "      <td>113700.0</td>\n",
              "      <td>42600.0</td>\n",
              "      <td>71900.0</td>\n",
              "      <td>36300.0</td>\n",
              "      <td>150000.0</td>\n",
              "      <td>Business</td>\n",
              "    </tr>\n",
              "    <tr>\n",
              "      <th>3</th>\n",
              "      <td>Anthropology</td>\n",
              "      <td>104200.0</td>\n",
              "      <td>36800.0</td>\n",
              "      <td>61500.0</td>\n",
              "      <td>33800.0</td>\n",
              "      <td>138000.0</td>\n",
              "      <td>HASS</td>\n",
              "    </tr>\n",
              "    <tr>\n",
              "      <th>4</th>\n",
              "      <td>Architecture</td>\n",
              "      <td>85400.0</td>\n",
              "      <td>41600.0</td>\n",
              "      <td>76800.0</td>\n",
              "      <td>50600.0</td>\n",
              "      <td>136000.0</td>\n",
              "      <td>Business</td>\n",
              "    </tr>\n",
              "  </tbody>\n",
              "</table>\n",
              "</div>\n",
              "      <button class=\"colab-df-convert\" onclick=\"convertToInteractive('df-a1367afa-ba55-4baf-8196-f8414095c86c')\"\n",
              "              title=\"Convert this dataframe to an interactive table.\"\n",
              "              style=\"display:none;\">\n",
              "        \n",
              "  <svg xmlns=\"http://www.w3.org/2000/svg\" height=\"24px\"viewBox=\"0 0 24 24\"\n",
              "       width=\"24px\">\n",
              "    <path d=\"M0 0h24v24H0V0z\" fill=\"none\"/>\n",
              "    <path d=\"M18.56 5.44l.94 2.06.94-2.06 2.06-.94-2.06-.94-.94-2.06-.94 2.06-2.06.94zm-11 1L8.5 8.5l.94-2.06 2.06-.94-2.06-.94L8.5 2.5l-.94 2.06-2.06.94zm10 10l.94 2.06.94-2.06 2.06-.94-2.06-.94-.94-2.06-.94 2.06-2.06.94z\"/><path d=\"M17.41 7.96l-1.37-1.37c-.4-.4-.92-.59-1.43-.59-.52 0-1.04.2-1.43.59L10.3 9.45l-7.72 7.72c-.78.78-.78 2.05 0 2.83L4 21.41c.39.39.9.59 1.41.59.51 0 1.02-.2 1.41-.59l7.78-7.78 2.81-2.81c.8-.78.8-2.07 0-2.86zM5.41 20L4 18.59l7.72-7.72 1.47 1.35L5.41 20z\"/>\n",
              "  </svg>\n",
              "      </button>\n",
              "      \n",
              "  <style>\n",
              "    .colab-df-container {\n",
              "      display:flex;\n",
              "      flex-wrap:wrap;\n",
              "      gap: 12px;\n",
              "    }\n",
              "\n",
              "    .colab-df-convert {\n",
              "      background-color: #E8F0FE;\n",
              "      border: none;\n",
              "      border-radius: 50%;\n",
              "      cursor: pointer;\n",
              "      display: none;\n",
              "      fill: #1967D2;\n",
              "      height: 32px;\n",
              "      padding: 0 0 0 0;\n",
              "      width: 32px;\n",
              "    }\n",
              "\n",
              "    .colab-df-convert:hover {\n",
              "      background-color: #E2EBFA;\n",
              "      box-shadow: 0px 1px 2px rgba(60, 64, 67, 0.3), 0px 1px 3px 1px rgba(60, 64, 67, 0.15);\n",
              "      fill: #174EA6;\n",
              "    }\n",
              "\n",
              "    [theme=dark] .colab-df-convert {\n",
              "      background-color: #3B4455;\n",
              "      fill: #D2E3FC;\n",
              "    }\n",
              "\n",
              "    [theme=dark] .colab-df-convert:hover {\n",
              "      background-color: #434B5C;\n",
              "      box-shadow: 0px 1px 3px 1px rgba(0, 0, 0, 0.15);\n",
              "      filter: drop-shadow(0px 1px 2px rgba(0, 0, 0, 0.3));\n",
              "      fill: #FFFFFF;\n",
              "    }\n",
              "  </style>\n",
              "\n",
              "      <script>\n",
              "        const buttonEl =\n",
              "          document.querySelector('#df-a1367afa-ba55-4baf-8196-f8414095c86c button.colab-df-convert');\n",
              "        buttonEl.style.display =\n",
              "          google.colab.kernel.accessAllowed ? 'block' : 'none';\n",
              "\n",
              "        async function convertToInteractive(key) {\n",
              "          const element = document.querySelector('#df-a1367afa-ba55-4baf-8196-f8414095c86c');\n",
              "          const dataTable =\n",
              "            await google.colab.kernel.invokeFunction('convertToInteractive',\n",
              "                                                     [key], {});\n",
              "          if (!dataTable) return;\n",
              "\n",
              "          const docLinkHtml = 'Like what you see? Visit the ' +\n",
              "            '<a target=\"_blank\" href=https://colab.research.google.com/notebooks/data_table.ipynb>data table notebook</a>'\n",
              "            + ' to learn more about interactive tables.';\n",
              "          element.innerHTML = '';\n",
              "          dataTable['output_type'] = 'display_data';\n",
              "          await google.colab.output.renderOutput(dataTable, element);\n",
              "          const docLink = document.createElement('div');\n",
              "          docLink.innerHTML = docLinkHtml;\n",
              "          element.appendChild(docLink);\n",
              "        }\n",
              "      </script>\n",
              "    </div>\n",
              "  </div>\n",
              "  "
            ]
          },
          "metadata": {},
          "execution_count": 57
        }
      ]
    },
    {
      "cell_type": "code",
      "source": [
        "low_risk = clean_df.sort_values('Spread')\n",
        "low_risk[['Undergraduate Major', 'Spread']].head()"
      ],
      "metadata": {
        "colab": {
          "base_uri": "https://localhost:8080/",
          "height": 204
        },
        "id": "fUDlFXfQMdeH",
        "outputId": "c8cd00bc-5de6-4bdd-956f-bfcb5963f329"
      },
      "execution_count": 58,
      "outputs": [
        {
          "output_type": "execute_result",
          "data": {
            "text/plain": [
              "           Undergraduate Major   Spread\n",
              "40                     Nursing  50700.0\n",
              "43         Physician Assistant  57600.0\n",
              "41                   Nutrition  65300.0\n",
              "49                     Spanish  65400.0\n",
              "27  Health Care Administration  66400.0"
            ],
            "text/html": [
              "\n",
              "  <div id=\"df-a8707bbf-16ca-4592-8a7f-5692f9d7a93f\">\n",
              "    <div class=\"colab-df-container\">\n",
              "      <div>\n",
              "<style scoped>\n",
              "    .dataframe tbody tr th:only-of-type {\n",
              "        vertical-align: middle;\n",
              "    }\n",
              "\n",
              "    .dataframe tbody tr th {\n",
              "        vertical-align: top;\n",
              "    }\n",
              "\n",
              "    .dataframe thead th {\n",
              "        text-align: right;\n",
              "    }\n",
              "</style>\n",
              "<table border=\"1\" class=\"dataframe\">\n",
              "  <thead>\n",
              "    <tr style=\"text-align: right;\">\n",
              "      <th></th>\n",
              "      <th>Undergraduate Major</th>\n",
              "      <th>Spread</th>\n",
              "    </tr>\n",
              "  </thead>\n",
              "  <tbody>\n",
              "    <tr>\n",
              "      <th>40</th>\n",
              "      <td>Nursing</td>\n",
              "      <td>50700.0</td>\n",
              "    </tr>\n",
              "    <tr>\n",
              "      <th>43</th>\n",
              "      <td>Physician Assistant</td>\n",
              "      <td>57600.0</td>\n",
              "    </tr>\n",
              "    <tr>\n",
              "      <th>41</th>\n",
              "      <td>Nutrition</td>\n",
              "      <td>65300.0</td>\n",
              "    </tr>\n",
              "    <tr>\n",
              "      <th>49</th>\n",
              "      <td>Spanish</td>\n",
              "      <td>65400.0</td>\n",
              "    </tr>\n",
              "    <tr>\n",
              "      <th>27</th>\n",
              "      <td>Health Care Administration</td>\n",
              "      <td>66400.0</td>\n",
              "    </tr>\n",
              "  </tbody>\n",
              "</table>\n",
              "</div>\n",
              "      <button class=\"colab-df-convert\" onclick=\"convertToInteractive('df-a8707bbf-16ca-4592-8a7f-5692f9d7a93f')\"\n",
              "              title=\"Convert this dataframe to an interactive table.\"\n",
              "              style=\"display:none;\">\n",
              "        \n",
              "  <svg xmlns=\"http://www.w3.org/2000/svg\" height=\"24px\"viewBox=\"0 0 24 24\"\n",
              "       width=\"24px\">\n",
              "    <path d=\"M0 0h24v24H0V0z\" fill=\"none\"/>\n",
              "    <path d=\"M18.56 5.44l.94 2.06.94-2.06 2.06-.94-2.06-.94-.94-2.06-.94 2.06-2.06.94zm-11 1L8.5 8.5l.94-2.06 2.06-.94-2.06-.94L8.5 2.5l-.94 2.06-2.06.94zm10 10l.94 2.06.94-2.06 2.06-.94-2.06-.94-.94-2.06-.94 2.06-2.06.94z\"/><path d=\"M17.41 7.96l-1.37-1.37c-.4-.4-.92-.59-1.43-.59-.52 0-1.04.2-1.43.59L10.3 9.45l-7.72 7.72c-.78.78-.78 2.05 0 2.83L4 21.41c.39.39.9.59 1.41.59.51 0 1.02-.2 1.41-.59l7.78-7.78 2.81-2.81c.8-.78.8-2.07 0-2.86zM5.41 20L4 18.59l7.72-7.72 1.47 1.35L5.41 20z\"/>\n",
              "  </svg>\n",
              "      </button>\n",
              "      \n",
              "  <style>\n",
              "    .colab-df-container {\n",
              "      display:flex;\n",
              "      flex-wrap:wrap;\n",
              "      gap: 12px;\n",
              "    }\n",
              "\n",
              "    .colab-df-convert {\n",
              "      background-color: #E8F0FE;\n",
              "      border: none;\n",
              "      border-radius: 50%;\n",
              "      cursor: pointer;\n",
              "      display: none;\n",
              "      fill: #1967D2;\n",
              "      height: 32px;\n",
              "      padding: 0 0 0 0;\n",
              "      width: 32px;\n",
              "    }\n",
              "\n",
              "    .colab-df-convert:hover {\n",
              "      background-color: #E2EBFA;\n",
              "      box-shadow: 0px 1px 2px rgba(60, 64, 67, 0.3), 0px 1px 3px 1px rgba(60, 64, 67, 0.15);\n",
              "      fill: #174EA6;\n",
              "    }\n",
              "\n",
              "    [theme=dark] .colab-df-convert {\n",
              "      background-color: #3B4455;\n",
              "      fill: #D2E3FC;\n",
              "    }\n",
              "\n",
              "    [theme=dark] .colab-df-convert:hover {\n",
              "      background-color: #434B5C;\n",
              "      box-shadow: 0px 1px 3px 1px rgba(0, 0, 0, 0.15);\n",
              "      filter: drop-shadow(0px 1px 2px rgba(0, 0, 0, 0.3));\n",
              "      fill: #FFFFFF;\n",
              "    }\n",
              "  </style>\n",
              "\n",
              "      <script>\n",
              "        const buttonEl =\n",
              "          document.querySelector('#df-a8707bbf-16ca-4592-8a7f-5692f9d7a93f button.colab-df-convert');\n",
              "        buttonEl.style.display =\n",
              "          google.colab.kernel.accessAllowed ? 'block' : 'none';\n",
              "\n",
              "        async function convertToInteractive(key) {\n",
              "          const element = document.querySelector('#df-a8707bbf-16ca-4592-8a7f-5692f9d7a93f');\n",
              "          const dataTable =\n",
              "            await google.colab.kernel.invokeFunction('convertToInteractive',\n",
              "                                                     [key], {});\n",
              "          if (!dataTable) return;\n",
              "\n",
              "          const docLinkHtml = 'Like what you see? Visit the ' +\n",
              "            '<a target=\"_blank\" href=https://colab.research.google.com/notebooks/data_table.ipynb>data table notebook</a>'\n",
              "            + ' to learn more about interactive tables.';\n",
              "          element.innerHTML = '';\n",
              "          dataTable['output_type'] = 'display_data';\n",
              "          await google.colab.output.renderOutput(dataTable, element);\n",
              "          const docLink = document.createElement('div');\n",
              "          docLink.innerHTML = docLinkHtml;\n",
              "          element.appendChild(docLink);\n",
              "        }\n",
              "      </script>\n",
              "    </div>\n",
              "  </div>\n",
              "  "
            ]
          },
          "metadata": {},
          "execution_count": 58
        }
      ]
    },
    {
      "cell_type": "code",
      "source": [
        "# majors with highest potential\n",
        "highest_potential = clean_df.sort_values('Mid-Career 90th Percentile Salary', ascending=False)\n",
        "highest_potential[['Undergraduate Major', 'Mid-Career 90th Percentile Salary']].head()"
      ],
      "metadata": {
        "colab": {
          "base_uri": "https://localhost:8080/",
          "height": 204
        },
        "id": "xcBLQu4kMmBL",
        "outputId": "41353042-abfd-4c48-987d-5a643b2ae23f"
      },
      "execution_count": 59,
      "outputs": [
        {
          "output_type": "execute_result",
          "data": {
            "text/plain": [
              "     Undergraduate Major  Mid-Career 90th Percentile Salary\n",
              "17             Economics                           210000.0\n",
              "22               Finance                           195000.0\n",
              "8   Chemical Engineering                           194000.0\n",
              "37                  Math                           183000.0\n",
              "44               Physics                           178000.0"
            ],
            "text/html": [
              "\n",
              "  <div id=\"df-f6e2144b-f0ac-4db1-a778-3e9e6dd6f0d7\">\n",
              "    <div class=\"colab-df-container\">\n",
              "      <div>\n",
              "<style scoped>\n",
              "    .dataframe tbody tr th:only-of-type {\n",
              "        vertical-align: middle;\n",
              "    }\n",
              "\n",
              "    .dataframe tbody tr th {\n",
              "        vertical-align: top;\n",
              "    }\n",
              "\n",
              "    .dataframe thead th {\n",
              "        text-align: right;\n",
              "    }\n",
              "</style>\n",
              "<table border=\"1\" class=\"dataframe\">\n",
              "  <thead>\n",
              "    <tr style=\"text-align: right;\">\n",
              "      <th></th>\n",
              "      <th>Undergraduate Major</th>\n",
              "      <th>Mid-Career 90th Percentile Salary</th>\n",
              "    </tr>\n",
              "  </thead>\n",
              "  <tbody>\n",
              "    <tr>\n",
              "      <th>17</th>\n",
              "      <td>Economics</td>\n",
              "      <td>210000.0</td>\n",
              "    </tr>\n",
              "    <tr>\n",
              "      <th>22</th>\n",
              "      <td>Finance</td>\n",
              "      <td>195000.0</td>\n",
              "    </tr>\n",
              "    <tr>\n",
              "      <th>8</th>\n",
              "      <td>Chemical Engineering</td>\n",
              "      <td>194000.0</td>\n",
              "    </tr>\n",
              "    <tr>\n",
              "      <th>37</th>\n",
              "      <td>Math</td>\n",
              "      <td>183000.0</td>\n",
              "    </tr>\n",
              "    <tr>\n",
              "      <th>44</th>\n",
              "      <td>Physics</td>\n",
              "      <td>178000.0</td>\n",
              "    </tr>\n",
              "  </tbody>\n",
              "</table>\n",
              "</div>\n",
              "      <button class=\"colab-df-convert\" onclick=\"convertToInteractive('df-f6e2144b-f0ac-4db1-a778-3e9e6dd6f0d7')\"\n",
              "              title=\"Convert this dataframe to an interactive table.\"\n",
              "              style=\"display:none;\">\n",
              "        \n",
              "  <svg xmlns=\"http://www.w3.org/2000/svg\" height=\"24px\"viewBox=\"0 0 24 24\"\n",
              "       width=\"24px\">\n",
              "    <path d=\"M0 0h24v24H0V0z\" fill=\"none\"/>\n",
              "    <path d=\"M18.56 5.44l.94 2.06.94-2.06 2.06-.94-2.06-.94-.94-2.06-.94 2.06-2.06.94zm-11 1L8.5 8.5l.94-2.06 2.06-.94-2.06-.94L8.5 2.5l-.94 2.06-2.06.94zm10 10l.94 2.06.94-2.06 2.06-.94-2.06-.94-.94-2.06-.94 2.06-2.06.94z\"/><path d=\"M17.41 7.96l-1.37-1.37c-.4-.4-.92-.59-1.43-.59-.52 0-1.04.2-1.43.59L10.3 9.45l-7.72 7.72c-.78.78-.78 2.05 0 2.83L4 21.41c.39.39.9.59 1.41.59.51 0 1.02-.2 1.41-.59l7.78-7.78 2.81-2.81c.8-.78.8-2.07 0-2.86zM5.41 20L4 18.59l7.72-7.72 1.47 1.35L5.41 20z\"/>\n",
              "  </svg>\n",
              "      </button>\n",
              "      \n",
              "  <style>\n",
              "    .colab-df-container {\n",
              "      display:flex;\n",
              "      flex-wrap:wrap;\n",
              "      gap: 12px;\n",
              "    }\n",
              "\n",
              "    .colab-df-convert {\n",
              "      background-color: #E8F0FE;\n",
              "      border: none;\n",
              "      border-radius: 50%;\n",
              "      cursor: pointer;\n",
              "      display: none;\n",
              "      fill: #1967D2;\n",
              "      height: 32px;\n",
              "      padding: 0 0 0 0;\n",
              "      width: 32px;\n",
              "    }\n",
              "\n",
              "    .colab-df-convert:hover {\n",
              "      background-color: #E2EBFA;\n",
              "      box-shadow: 0px 1px 2px rgba(60, 64, 67, 0.3), 0px 1px 3px 1px rgba(60, 64, 67, 0.15);\n",
              "      fill: #174EA6;\n",
              "    }\n",
              "\n",
              "    [theme=dark] .colab-df-convert {\n",
              "      background-color: #3B4455;\n",
              "      fill: #D2E3FC;\n",
              "    }\n",
              "\n",
              "    [theme=dark] .colab-df-convert:hover {\n",
              "      background-color: #434B5C;\n",
              "      box-shadow: 0px 1px 3px 1px rgba(0, 0, 0, 0.15);\n",
              "      filter: drop-shadow(0px 1px 2px rgba(0, 0, 0, 0.3));\n",
              "      fill: #FFFFFF;\n",
              "    }\n",
              "  </style>\n",
              "\n",
              "      <script>\n",
              "        const buttonEl =\n",
              "          document.querySelector('#df-f6e2144b-f0ac-4db1-a778-3e9e6dd6f0d7 button.colab-df-convert');\n",
              "        buttonEl.style.display =\n",
              "          google.colab.kernel.accessAllowed ? 'block' : 'none';\n",
              "\n",
              "        async function convertToInteractive(key) {\n",
              "          const element = document.querySelector('#df-f6e2144b-f0ac-4db1-a778-3e9e6dd6f0d7');\n",
              "          const dataTable =\n",
              "            await google.colab.kernel.invokeFunction('convertToInteractive',\n",
              "                                                     [key], {});\n",
              "          if (!dataTable) return;\n",
              "\n",
              "          const docLinkHtml = 'Like what you see? Visit the ' +\n",
              "            '<a target=\"_blank\" href=https://colab.research.google.com/notebooks/data_table.ipynb>data table notebook</a>'\n",
              "            + ' to learn more about interactive tables.';\n",
              "          element.innerHTML = '';\n",
              "          dataTable['output_type'] = 'display_data';\n",
              "          await google.colab.output.renderOutput(dataTable, element);\n",
              "          const docLink = document.createElement('div');\n",
              "          docLink.innerHTML = docLinkHtml;\n",
              "          element.appendChild(docLink);\n",
              "        }\n",
              "      </script>\n",
              "    </div>\n",
              "  </div>\n",
              "  "
            ]
          },
          "metadata": {},
          "execution_count": 59
        }
      ]
    },
    {
      "cell_type": "code",
      "source": [
        "# majors with greatest spread in salary\n",
        "highest_spread = clean_df.sort_values('Spread', ascending=False)\n",
        "highest_spread[['Undergraduate Major', 'Spread']].head()"
      ],
      "metadata": {
        "colab": {
          "base_uri": "https://localhost:8080/",
          "height": 204
        },
        "id": "86kNrT_5M2yg",
        "outputId": "60009ea2-0822-4da2-d0e6-6ffe80e4b992"
      },
      "execution_count": 60,
      "outputs": [
        {
          "output_type": "execute_result",
          "data": {
            "text/plain": [
              "   Undergraduate Major    Spread\n",
              "17           Economics  159400.0\n",
              "22             Finance  147800.0\n",
              "37                Math  137800.0\n",
              "36           Marketing  132900.0\n",
              "42          Philosophy  132500.0"
            ],
            "text/html": [
              "\n",
              "  <div id=\"df-eff84cf1-32bd-40f3-a89d-0245e76d99df\">\n",
              "    <div class=\"colab-df-container\">\n",
              "      <div>\n",
              "<style scoped>\n",
              "    .dataframe tbody tr th:only-of-type {\n",
              "        vertical-align: middle;\n",
              "    }\n",
              "\n",
              "    .dataframe tbody tr th {\n",
              "        vertical-align: top;\n",
              "    }\n",
              "\n",
              "    .dataframe thead th {\n",
              "        text-align: right;\n",
              "    }\n",
              "</style>\n",
              "<table border=\"1\" class=\"dataframe\">\n",
              "  <thead>\n",
              "    <tr style=\"text-align: right;\">\n",
              "      <th></th>\n",
              "      <th>Undergraduate Major</th>\n",
              "      <th>Spread</th>\n",
              "    </tr>\n",
              "  </thead>\n",
              "  <tbody>\n",
              "    <tr>\n",
              "      <th>17</th>\n",
              "      <td>Economics</td>\n",
              "      <td>159400.0</td>\n",
              "    </tr>\n",
              "    <tr>\n",
              "      <th>22</th>\n",
              "      <td>Finance</td>\n",
              "      <td>147800.0</td>\n",
              "    </tr>\n",
              "    <tr>\n",
              "      <th>37</th>\n",
              "      <td>Math</td>\n",
              "      <td>137800.0</td>\n",
              "    </tr>\n",
              "    <tr>\n",
              "      <th>36</th>\n",
              "      <td>Marketing</td>\n",
              "      <td>132900.0</td>\n",
              "    </tr>\n",
              "    <tr>\n",
              "      <th>42</th>\n",
              "      <td>Philosophy</td>\n",
              "      <td>132500.0</td>\n",
              "    </tr>\n",
              "  </tbody>\n",
              "</table>\n",
              "</div>\n",
              "      <button class=\"colab-df-convert\" onclick=\"convertToInteractive('df-eff84cf1-32bd-40f3-a89d-0245e76d99df')\"\n",
              "              title=\"Convert this dataframe to an interactive table.\"\n",
              "              style=\"display:none;\">\n",
              "        \n",
              "  <svg xmlns=\"http://www.w3.org/2000/svg\" height=\"24px\"viewBox=\"0 0 24 24\"\n",
              "       width=\"24px\">\n",
              "    <path d=\"M0 0h24v24H0V0z\" fill=\"none\"/>\n",
              "    <path d=\"M18.56 5.44l.94 2.06.94-2.06 2.06-.94-2.06-.94-.94-2.06-.94 2.06-2.06.94zm-11 1L8.5 8.5l.94-2.06 2.06-.94-2.06-.94L8.5 2.5l-.94 2.06-2.06.94zm10 10l.94 2.06.94-2.06 2.06-.94-2.06-.94-.94-2.06-.94 2.06-2.06.94z\"/><path d=\"M17.41 7.96l-1.37-1.37c-.4-.4-.92-.59-1.43-.59-.52 0-1.04.2-1.43.59L10.3 9.45l-7.72 7.72c-.78.78-.78 2.05 0 2.83L4 21.41c.39.39.9.59 1.41.59.51 0 1.02-.2 1.41-.59l7.78-7.78 2.81-2.81c.8-.78.8-2.07 0-2.86zM5.41 20L4 18.59l7.72-7.72 1.47 1.35L5.41 20z\"/>\n",
              "  </svg>\n",
              "      </button>\n",
              "      \n",
              "  <style>\n",
              "    .colab-df-container {\n",
              "      display:flex;\n",
              "      flex-wrap:wrap;\n",
              "      gap: 12px;\n",
              "    }\n",
              "\n",
              "    .colab-df-convert {\n",
              "      background-color: #E8F0FE;\n",
              "      border: none;\n",
              "      border-radius: 50%;\n",
              "      cursor: pointer;\n",
              "      display: none;\n",
              "      fill: #1967D2;\n",
              "      height: 32px;\n",
              "      padding: 0 0 0 0;\n",
              "      width: 32px;\n",
              "    }\n",
              "\n",
              "    .colab-df-convert:hover {\n",
              "      background-color: #E2EBFA;\n",
              "      box-shadow: 0px 1px 2px rgba(60, 64, 67, 0.3), 0px 1px 3px 1px rgba(60, 64, 67, 0.15);\n",
              "      fill: #174EA6;\n",
              "    }\n",
              "\n",
              "    [theme=dark] .colab-df-convert {\n",
              "      background-color: #3B4455;\n",
              "      fill: #D2E3FC;\n",
              "    }\n",
              "\n",
              "    [theme=dark] .colab-df-convert:hover {\n",
              "      background-color: #434B5C;\n",
              "      box-shadow: 0px 1px 3px 1px rgba(0, 0, 0, 0.15);\n",
              "      filter: drop-shadow(0px 1px 2px rgba(0, 0, 0, 0.3));\n",
              "      fill: #FFFFFF;\n",
              "    }\n",
              "  </style>\n",
              "\n",
              "      <script>\n",
              "        const buttonEl =\n",
              "          document.querySelector('#df-eff84cf1-32bd-40f3-a89d-0245e76d99df button.colab-df-convert');\n",
              "        buttonEl.style.display =\n",
              "          google.colab.kernel.accessAllowed ? 'block' : 'none';\n",
              "\n",
              "        async function convertToInteractive(key) {\n",
              "          const element = document.querySelector('#df-eff84cf1-32bd-40f3-a89d-0245e76d99df');\n",
              "          const dataTable =\n",
              "            await google.colab.kernel.invokeFunction('convertToInteractive',\n",
              "                                                     [key], {});\n",
              "          if (!dataTable) return;\n",
              "\n",
              "          const docLinkHtml = 'Like what you see? Visit the ' +\n",
              "            '<a target=\"_blank\" href=https://colab.research.google.com/notebooks/data_table.ipynb>data table notebook</a>'\n",
              "            + ' to learn more about interactive tables.';\n",
              "          element.innerHTML = '';\n",
              "          dataTable['output_type'] = 'display_data';\n",
              "          await google.colab.output.renderOutput(dataTable, element);\n",
              "          const docLink = document.createElement('div');\n",
              "          docLink.innerHTML = docLinkHtml;\n",
              "          element.appendChild(docLink);\n",
              "        }\n",
              "      </script>\n",
              "    </div>\n",
              "  </div>\n",
              "  "
            ]
          },
          "metadata": {},
          "execution_count": 60
        }
      ]
    },
    {
      "cell_type": "code",
      "source": [
        "# mid-life crisis career track\n",
        "\n",
        "highest_potential = clean_df.sort_values('Mid-Career Median Salary', ascending=False) \n",
        "highest_potential[['Undergraduate Major', 'Mid-Career Median Salary']].head()"
      ],
      "metadata": {
        "colab": {
          "base_uri": "https://localhost:8080/",
          "height": 204
        },
        "id": "WvpVzbJjM-0b",
        "outputId": "aabfdd11-d4a0-4c44-9588-737b1c651c63"
      },
      "execution_count": 62,
      "outputs": [
        {
          "output_type": "execute_result",
          "data": {
            "text/plain": [
              "       Undergraduate Major  Mid-Career Median Salary\n",
              "8     Chemical Engineering                  107000.0\n",
              "12    Computer Engineering                  105000.0\n",
              "19  Electrical Engineering                  103000.0\n",
              "1    Aerospace Engineering                  101000.0\n",
              "17               Economics                   98600.0"
            ],
            "text/html": [
              "\n",
              "  <div id=\"df-57b8b4c7-7ca6-4e0f-84e3-ac1ce66a9409\">\n",
              "    <div class=\"colab-df-container\">\n",
              "      <div>\n",
              "<style scoped>\n",
              "    .dataframe tbody tr th:only-of-type {\n",
              "        vertical-align: middle;\n",
              "    }\n",
              "\n",
              "    .dataframe tbody tr th {\n",
              "        vertical-align: top;\n",
              "    }\n",
              "\n",
              "    .dataframe thead th {\n",
              "        text-align: right;\n",
              "    }\n",
              "</style>\n",
              "<table border=\"1\" class=\"dataframe\">\n",
              "  <thead>\n",
              "    <tr style=\"text-align: right;\">\n",
              "      <th></th>\n",
              "      <th>Undergraduate Major</th>\n",
              "      <th>Mid-Career Median Salary</th>\n",
              "    </tr>\n",
              "  </thead>\n",
              "  <tbody>\n",
              "    <tr>\n",
              "      <th>8</th>\n",
              "      <td>Chemical Engineering</td>\n",
              "      <td>107000.0</td>\n",
              "    </tr>\n",
              "    <tr>\n",
              "      <th>12</th>\n",
              "      <td>Computer Engineering</td>\n",
              "      <td>105000.0</td>\n",
              "    </tr>\n",
              "    <tr>\n",
              "      <th>19</th>\n",
              "      <td>Electrical Engineering</td>\n",
              "      <td>103000.0</td>\n",
              "    </tr>\n",
              "    <tr>\n",
              "      <th>1</th>\n",
              "      <td>Aerospace Engineering</td>\n",
              "      <td>101000.0</td>\n",
              "    </tr>\n",
              "    <tr>\n",
              "      <th>17</th>\n",
              "      <td>Economics</td>\n",
              "      <td>98600.0</td>\n",
              "    </tr>\n",
              "  </tbody>\n",
              "</table>\n",
              "</div>\n",
              "      <button class=\"colab-df-convert\" onclick=\"convertToInteractive('df-57b8b4c7-7ca6-4e0f-84e3-ac1ce66a9409')\"\n",
              "              title=\"Convert this dataframe to an interactive table.\"\n",
              "              style=\"display:none;\">\n",
              "        \n",
              "  <svg xmlns=\"http://www.w3.org/2000/svg\" height=\"24px\"viewBox=\"0 0 24 24\"\n",
              "       width=\"24px\">\n",
              "    <path d=\"M0 0h24v24H0V0z\" fill=\"none\"/>\n",
              "    <path d=\"M18.56 5.44l.94 2.06.94-2.06 2.06-.94-2.06-.94-.94-2.06-.94 2.06-2.06.94zm-11 1L8.5 8.5l.94-2.06 2.06-.94-2.06-.94L8.5 2.5l-.94 2.06-2.06.94zm10 10l.94 2.06.94-2.06 2.06-.94-2.06-.94-.94-2.06-.94 2.06-2.06.94z\"/><path d=\"M17.41 7.96l-1.37-1.37c-.4-.4-.92-.59-1.43-.59-.52 0-1.04.2-1.43.59L10.3 9.45l-7.72 7.72c-.78.78-.78 2.05 0 2.83L4 21.41c.39.39.9.59 1.41.59.51 0 1.02-.2 1.41-.59l7.78-7.78 2.81-2.81c.8-.78.8-2.07 0-2.86zM5.41 20L4 18.59l7.72-7.72 1.47 1.35L5.41 20z\"/>\n",
              "  </svg>\n",
              "      </button>\n",
              "      \n",
              "  <style>\n",
              "    .colab-df-container {\n",
              "      display:flex;\n",
              "      flex-wrap:wrap;\n",
              "      gap: 12px;\n",
              "    }\n",
              "\n",
              "    .colab-df-convert {\n",
              "      background-color: #E8F0FE;\n",
              "      border: none;\n",
              "      border-radius: 50%;\n",
              "      cursor: pointer;\n",
              "      display: none;\n",
              "      fill: #1967D2;\n",
              "      height: 32px;\n",
              "      padding: 0 0 0 0;\n",
              "      width: 32px;\n",
              "    }\n",
              "\n",
              "    .colab-df-convert:hover {\n",
              "      background-color: #E2EBFA;\n",
              "      box-shadow: 0px 1px 2px rgba(60, 64, 67, 0.3), 0px 1px 3px 1px rgba(60, 64, 67, 0.15);\n",
              "      fill: #174EA6;\n",
              "    }\n",
              "\n",
              "    [theme=dark] .colab-df-convert {\n",
              "      background-color: #3B4455;\n",
              "      fill: #D2E3FC;\n",
              "    }\n",
              "\n",
              "    [theme=dark] .colab-df-convert:hover {\n",
              "      background-color: #434B5C;\n",
              "      box-shadow: 0px 1px 3px 1px rgba(0, 0, 0, 0.15);\n",
              "      filter: drop-shadow(0px 1px 2px rgba(0, 0, 0, 0.3));\n",
              "      fill: #FFFFFF;\n",
              "    }\n",
              "  </style>\n",
              "\n",
              "      <script>\n",
              "        const buttonEl =\n",
              "          document.querySelector('#df-57b8b4c7-7ca6-4e0f-84e3-ac1ce66a9409 button.colab-df-convert');\n",
              "        buttonEl.style.display =\n",
              "          google.colab.kernel.accessAllowed ? 'block' : 'none';\n",
              "\n",
              "        async function convertToInteractive(key) {\n",
              "          const element = document.querySelector('#df-57b8b4c7-7ca6-4e0f-84e3-ac1ce66a9409');\n",
              "          const dataTable =\n",
              "            await google.colab.kernel.invokeFunction('convertToInteractive',\n",
              "                                                     [key], {});\n",
              "          if (!dataTable) return;\n",
              "\n",
              "          const docLinkHtml = 'Like what you see? Visit the ' +\n",
              "            '<a target=\"_blank\" href=https://colab.research.google.com/notebooks/data_table.ipynb>data table notebook</a>'\n",
              "            + ' to learn more about interactive tables.';\n",
              "          element.innerHTML = '';\n",
              "          dataTable['output_type'] = 'display_data';\n",
              "          await google.colab.output.renderOutput(dataTable, element);\n",
              "          const docLink = document.createElement('div');\n",
              "          docLink.innerHTML = docLinkHtml;\n",
              "          element.appendChild(docLink);\n",
              "        }\n",
              "      </script>\n",
              "    </div>\n",
              "  </div>\n",
              "  "
            ]
          },
          "metadata": {},
          "execution_count": 62
        }
      ]
    },
    {
      "cell_type": "code",
      "source": [
        ""
      ],
      "metadata": {
        "id": "6ZI6N66bNpW8"
      },
      "execution_count": null,
      "outputs": []
    }
  ]
}