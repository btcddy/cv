{
  "nbformat": 4,
  "nbformat_minor": 0,
  "metadata": {
    "colab": {
      "name": "salaries_by_college_major.ipynb",
      "provenance": [],
      "authorship_tag": "ABX9TyNWYgmBVgD3bdfFu67Crn8G",
      "include_colab_link": true
    },
    "kernelspec": {
      "name": "python3",
      "display_name": "Python 3"
    },
    "language_info": {
      "name": "python"
    }
  },
  "cells": [
    {
      "cell_type": "markdown",
      "metadata": {
        "id": "view-in-github",
        "colab_type": "text"
      },
      "source": [
        "<a href=\"https://colab.research.google.com/github/btcddy/cv/blob/main/salaries_by_college_major.ipynb\" target=\"_parent\"><img src=\"https://colab.research.google.com/assets/colab-badge.svg\" alt=\"Open In Colab\"/></a>"
      ]
    },
    {
      "cell_type": "code",
      "source": [
        "import pandas as pd\n",
        "import csv\n",
        "df = pd.read_csv('salaries_by_college_major .csv')"
      ],
      "metadata": {
        "id": "pyMxWSpgBfHZ"
      },
      "execution_count": 10,
      "outputs": []
    },
    {
      "cell_type": "code",
      "source": [
        "df.head()"
      ],
      "metadata": {
        "colab": {
          "base_uri": "https://localhost:8080/",
          "height": 227
        },
        "id": "RtkEfKWoCkct",
        "outputId": "930a7e08-b61f-44d5-d567-e29a4a8d1834"
      },
      "execution_count": 12,
      "outputs": [
        {
          "output_type": "execute_result",
          "data": {
            "text/plain": [
              "     Undergraduate Major  Starting Median Salary  Mid-Career Median Salary  \\\n",
              "0             Accounting                 46000.0                   77100.0   \n",
              "1  Aerospace Engineering                 57700.0                  101000.0   \n",
              "2            Agriculture                 42600.0                   71900.0   \n",
              "3           Anthropology                 36800.0                   61500.0   \n",
              "4           Architecture                 41600.0                   76800.0   \n",
              "\n",
              "   Mid-Career 10th Percentile Salary  Mid-Career 90th Percentile Salary  \\\n",
              "0                            42200.0                           152000.0   \n",
              "1                            64300.0                           161000.0   \n",
              "2                            36300.0                           150000.0   \n",
              "3                            33800.0                           138000.0   \n",
              "4                            50600.0                           136000.0   \n",
              "\n",
              "      Group  \n",
              "0  Business  \n",
              "1      STEM  \n",
              "2  Business  \n",
              "3      HASS  \n",
              "4  Business  "
            ],
            "text/html": [
              "\n",
              "  <div id=\"df-97542705-7837-4b25-9bba-0ac57dbeb751\">\n",
              "    <div class=\"colab-df-container\">\n",
              "      <div>\n",
              "<style scoped>\n",
              "    .dataframe tbody tr th:only-of-type {\n",
              "        vertical-align: middle;\n",
              "    }\n",
              "\n",
              "    .dataframe tbody tr th {\n",
              "        vertical-align: top;\n",
              "    }\n",
              "\n",
              "    .dataframe thead th {\n",
              "        text-align: right;\n",
              "    }\n",
              "</style>\n",
              "<table border=\"1\" class=\"dataframe\">\n",
              "  <thead>\n",
              "    <tr style=\"text-align: right;\">\n",
              "      <th></th>\n",
              "      <th>Undergraduate Major</th>\n",
              "      <th>Starting Median Salary</th>\n",
              "      <th>Mid-Career Median Salary</th>\n",
              "      <th>Mid-Career 10th Percentile Salary</th>\n",
              "      <th>Mid-Career 90th Percentile Salary</th>\n",
              "      <th>Group</th>\n",
              "    </tr>\n",
              "  </thead>\n",
              "  <tbody>\n",
              "    <tr>\n",
              "      <th>0</th>\n",
              "      <td>Accounting</td>\n",
              "      <td>46000.0</td>\n",
              "      <td>77100.0</td>\n",
              "      <td>42200.0</td>\n",
              "      <td>152000.0</td>\n",
              "      <td>Business</td>\n",
              "    </tr>\n",
              "    <tr>\n",
              "      <th>1</th>\n",
              "      <td>Aerospace Engineering</td>\n",
              "      <td>57700.0</td>\n",
              "      <td>101000.0</td>\n",
              "      <td>64300.0</td>\n",
              "      <td>161000.0</td>\n",
              "      <td>STEM</td>\n",
              "    </tr>\n",
              "    <tr>\n",
              "      <th>2</th>\n",
              "      <td>Agriculture</td>\n",
              "      <td>42600.0</td>\n",
              "      <td>71900.0</td>\n",
              "      <td>36300.0</td>\n",
              "      <td>150000.0</td>\n",
              "      <td>Business</td>\n",
              "    </tr>\n",
              "    <tr>\n",
              "      <th>3</th>\n",
              "      <td>Anthropology</td>\n",
              "      <td>36800.0</td>\n",
              "      <td>61500.0</td>\n",
              "      <td>33800.0</td>\n",
              "      <td>138000.0</td>\n",
              "      <td>HASS</td>\n",
              "    </tr>\n",
              "    <tr>\n",
              "      <th>4</th>\n",
              "      <td>Architecture</td>\n",
              "      <td>41600.0</td>\n",
              "      <td>76800.0</td>\n",
              "      <td>50600.0</td>\n",
              "      <td>136000.0</td>\n",
              "      <td>Business</td>\n",
              "    </tr>\n",
              "  </tbody>\n",
              "</table>\n",
              "</div>\n",
              "      <button class=\"colab-df-convert\" onclick=\"convertToInteractive('df-97542705-7837-4b25-9bba-0ac57dbeb751')\"\n",
              "              title=\"Convert this dataframe to an interactive table.\"\n",
              "              style=\"display:none;\">\n",
              "        \n",
              "  <svg xmlns=\"http://www.w3.org/2000/svg\" height=\"24px\"viewBox=\"0 0 24 24\"\n",
              "       width=\"24px\">\n",
              "    <path d=\"M0 0h24v24H0V0z\" fill=\"none\"/>\n",
              "    <path d=\"M18.56 5.44l.94 2.06.94-2.06 2.06-.94-2.06-.94-.94-2.06-.94 2.06-2.06.94zm-11 1L8.5 8.5l.94-2.06 2.06-.94-2.06-.94L8.5 2.5l-.94 2.06-2.06.94zm10 10l.94 2.06.94-2.06 2.06-.94-2.06-.94-.94-2.06-.94 2.06-2.06.94z\"/><path d=\"M17.41 7.96l-1.37-1.37c-.4-.4-.92-.59-1.43-.59-.52 0-1.04.2-1.43.59L10.3 9.45l-7.72 7.72c-.78.78-.78 2.05 0 2.83L4 21.41c.39.39.9.59 1.41.59.51 0 1.02-.2 1.41-.59l7.78-7.78 2.81-2.81c.8-.78.8-2.07 0-2.86zM5.41 20L4 18.59l7.72-7.72 1.47 1.35L5.41 20z\"/>\n",
              "  </svg>\n",
              "      </button>\n",
              "      \n",
              "  <style>\n",
              "    .colab-df-container {\n",
              "      display:flex;\n",
              "      flex-wrap:wrap;\n",
              "      gap: 12px;\n",
              "    }\n",
              "\n",
              "    .colab-df-convert {\n",
              "      background-color: #E8F0FE;\n",
              "      border: none;\n",
              "      border-radius: 50%;\n",
              "      cursor: pointer;\n",
              "      display: none;\n",
              "      fill: #1967D2;\n",
              "      height: 32px;\n",
              "      padding: 0 0 0 0;\n",
              "      width: 32px;\n",
              "    }\n",
              "\n",
              "    .colab-df-convert:hover {\n",
              "      background-color: #E2EBFA;\n",
              "      box-shadow: 0px 1px 2px rgba(60, 64, 67, 0.3), 0px 1px 3px 1px rgba(60, 64, 67, 0.15);\n",
              "      fill: #174EA6;\n",
              "    }\n",
              "\n",
              "    [theme=dark] .colab-df-convert {\n",
              "      background-color: #3B4455;\n",
              "      fill: #D2E3FC;\n",
              "    }\n",
              "\n",
              "    [theme=dark] .colab-df-convert:hover {\n",
              "      background-color: #434B5C;\n",
              "      box-shadow: 0px 1px 3px 1px rgba(0, 0, 0, 0.15);\n",
              "      filter: drop-shadow(0px 1px 2px rgba(0, 0, 0, 0.3));\n",
              "      fill: #FFFFFF;\n",
              "    }\n",
              "  </style>\n",
              "\n",
              "      <script>\n",
              "        const buttonEl =\n",
              "          document.querySelector('#df-97542705-7837-4b25-9bba-0ac57dbeb751 button.colab-df-convert');\n",
              "        buttonEl.style.display =\n",
              "          google.colab.kernel.accessAllowed ? 'block' : 'none';\n",
              "\n",
              "        async function convertToInteractive(key) {\n",
              "          const element = document.querySelector('#df-97542705-7837-4b25-9bba-0ac57dbeb751');\n",
              "          const dataTable =\n",
              "            await google.colab.kernel.invokeFunction('convertToInteractive',\n",
              "                                                     [key], {});\n",
              "          if (!dataTable) return;\n",
              "\n",
              "          const docLinkHtml = 'Like what you see? Visit the ' +\n",
              "            '<a target=\"_blank\" href=https://colab.research.google.com/notebooks/data_table.ipynb>data table notebook</a>'\n",
              "            + ' to learn more about interactive tables.';\n",
              "          element.innerHTML = '';\n",
              "          dataTable['output_type'] = 'display_data';\n",
              "          await google.colab.output.renderOutput(dataTable, element);\n",
              "          const docLink = document.createElement('div');\n",
              "          docLink.innerHTML = docLinkHtml;\n",
              "          element.appendChild(docLink);\n",
              "        }\n",
              "      </script>\n",
              "    </div>\n",
              "  </div>\n",
              "  "
            ]
          },
          "metadata": {},
          "execution_count": 12
        }
      ]
    },
    {
      "cell_type": "code",
      "source": [
        "df.shape"
      ],
      "metadata": {
        "colab": {
          "base_uri": "https://localhost:8080/"
        },
        "id": "M7Atb63MCmR1",
        "outputId": "a852e989-9f44-46f5-90fa-2470dfc870b3"
      },
      "execution_count": 13,
      "outputs": [
        {
          "output_type": "execute_result",
          "data": {
            "text/plain": [
              "(51, 6)"
            ]
          },
          "metadata": {},
          "execution_count": 13
        }
      ]
    },
    {
      "cell_type": "code",
      "source": [
        "df.columns"
      ],
      "metadata": {
        "colab": {
          "base_uri": "https://localhost:8080/"
        },
        "id": "ancbZD_OC9_7",
        "outputId": "e244f400-6081-49b9-bd07-92e8e333e9b4"
      },
      "execution_count": 14,
      "outputs": [
        {
          "output_type": "execute_result",
          "data": {
            "text/plain": [
              "Index(['Undergraduate Major', 'Starting Median Salary',\n",
              "       'Mid-Career Median Salary', 'Mid-Career 10th Percentile Salary',\n",
              "       'Mid-Career 90th Percentile Salary', 'Group'],\n",
              "      dtype='object')"
            ]
          },
          "metadata": {},
          "execution_count": 14
        }
      ]
    },
    {
      "cell_type": "code",
      "source": [
        "df.isna"
      ],
      "metadata": {
        "colab": {
          "base_uri": "https://localhost:8080/"
        },
        "id": "fIz424qLDCpK",
        "outputId": "8e3ec817-1184-4064-d30e-b441fef44d03"
      },
      "execution_count": 16,
      "outputs": [
        {
          "output_type": "execute_result",
          "data": {
            "text/plain": [
              "<bound method DataFrame.isna of                      Undergraduate Major  Starting Median Salary  \\\n",
              "0                             Accounting                 46000.0   \n",
              "1                  Aerospace Engineering                 57700.0   \n",
              "2                            Agriculture                 42600.0   \n",
              "3                           Anthropology                 36800.0   \n",
              "4                           Architecture                 41600.0   \n",
              "5                            Art History                 35800.0   \n",
              "6                                Biology                 38800.0   \n",
              "7                    Business Management                 43000.0   \n",
              "8                   Chemical Engineering                 63200.0   \n",
              "9                              Chemistry                 42600.0   \n",
              "10                     Civil Engineering                 53900.0   \n",
              "11                        Communications                 38100.0   \n",
              "12                  Computer Engineering                 61400.0   \n",
              "13                      Computer Science                 55900.0   \n",
              "14                          Construction                 53700.0   \n",
              "15                      Criminal Justice                 35000.0   \n",
              "16                                 Drama                 35900.0   \n",
              "17                             Economics                 50100.0   \n",
              "18                             Education                 34900.0   \n",
              "19                Electrical Engineering                 60900.0   \n",
              "20                               English                 38000.0   \n",
              "21                                  Film                 37900.0   \n",
              "22                               Finance                 47900.0   \n",
              "23                              Forestry                 39100.0   \n",
              "24                             Geography                 41200.0   \n",
              "25                               Geology                 43500.0   \n",
              "26                        Graphic Design                 35700.0   \n",
              "27            Health Care Administration                 38800.0   \n",
              "28                               History                 39200.0   \n",
              "29                 Hospitality & Tourism                 37800.0   \n",
              "30                Industrial Engineering                 57700.0   \n",
              "31           Information Technology (IT)                 49100.0   \n",
              "32                       Interior Design                 36100.0   \n",
              "33               International Relations                 40900.0   \n",
              "34                            Journalism                 35600.0   \n",
              "35  Management Information Systems (MIS)                 49200.0   \n",
              "36                             Marketing                 40800.0   \n",
              "37                                  Math                 45400.0   \n",
              "38                Mechanical Engineering                 57900.0   \n",
              "39                                 Music                 35900.0   \n",
              "40                               Nursing                 54200.0   \n",
              "41                             Nutrition                 39900.0   \n",
              "42                            Philosophy                 39900.0   \n",
              "43                   Physician Assistant                 74300.0   \n",
              "44                               Physics                 50300.0   \n",
              "45                     Political Science                 40800.0   \n",
              "46                            Psychology                 35900.0   \n",
              "47                              Religion                 34100.0   \n",
              "48                             Sociology                 36500.0   \n",
              "49                               Spanish                 34000.0   \n",
              "50                 Source: PayScale Inc.                     NaN   \n",
              "\n",
              "    Mid-Career Median Salary  Mid-Career 10th Percentile Salary  \\\n",
              "0                    77100.0                            42200.0   \n",
              "1                   101000.0                            64300.0   \n",
              "2                    71900.0                            36300.0   \n",
              "3                    61500.0                            33800.0   \n",
              "4                    76800.0                            50600.0   \n",
              "5                    64900.0                            28800.0   \n",
              "6                    64800.0                            36900.0   \n",
              "7                    72100.0                            38800.0   \n",
              "8                   107000.0                            71900.0   \n",
              "9                    79900.0                            45300.0   \n",
              "10                   90500.0                            63400.0   \n",
              "11                   70000.0                            37500.0   \n",
              "12                  105000.0                            66100.0   \n",
              "13                   95500.0                            56000.0   \n",
              "14                   88900.0                            56300.0   \n",
              "15                   56300.0                            32200.0   \n",
              "16                   56900.0                            36700.0   \n",
              "17                   98600.0                            50600.0   \n",
              "18                   52000.0                            29300.0   \n",
              "19                  103000.0                            69300.0   \n",
              "20                   64700.0                            33400.0   \n",
              "21                   68500.0                            33900.0   \n",
              "22                   88300.0                            47200.0   \n",
              "23                   62600.0                            41000.0   \n",
              "24                   65500.0                            40000.0   \n",
              "25                   79500.0                            45000.0   \n",
              "26                   59800.0                            36000.0   \n",
              "27                   60600.0                            34600.0   \n",
              "28                   71000.0                            37000.0   \n",
              "29                   57500.0                            35500.0   \n",
              "30                   94700.0                            57100.0   \n",
              "31                   74800.0                            44500.0   \n",
              "32                   53200.0                            35700.0   \n",
              "33                   80900.0                            38200.0   \n",
              "34                   66700.0                            38400.0   \n",
              "35                   82300.0                            45300.0   \n",
              "36                   79600.0                            42100.0   \n",
              "37                   92400.0                            45200.0   \n",
              "38                   93600.0                            63700.0   \n",
              "39                   55000.0                            26700.0   \n",
              "40                   67000.0                            47600.0   \n",
              "41                   55300.0                            33900.0   \n",
              "42                   81200.0                            35500.0   \n",
              "43                   91700.0                            66400.0   \n",
              "44                   97300.0                            56000.0   \n",
              "45                   78200.0                            41200.0   \n",
              "46                   60400.0                            31600.0   \n",
              "47                   52000.0                            29700.0   \n",
              "48                   58200.0                            30700.0   \n",
              "49                   53100.0                            31000.0   \n",
              "50                       NaN                                NaN   \n",
              "\n",
              "    Mid-Career 90th Percentile Salary     Group  \n",
              "0                            152000.0  Business  \n",
              "1                            161000.0      STEM  \n",
              "2                            150000.0  Business  \n",
              "3                            138000.0      HASS  \n",
              "4                            136000.0  Business  \n",
              "5                            125000.0      HASS  \n",
              "6                            135000.0      STEM  \n",
              "7                            147000.0  Business  \n",
              "8                            194000.0      STEM  \n",
              "9                            148000.0      STEM  \n",
              "10                           148000.0      STEM  \n",
              "11                           143000.0      HASS  \n",
              "12                           162000.0      STEM  \n",
              "13                           154000.0      STEM  \n",
              "14                           171000.0  Business  \n",
              "15                           107000.0      HASS  \n",
              "16                           153000.0      HASS  \n",
              "17                           210000.0  Business  \n",
              "18                           102000.0      HASS  \n",
              "19                           168000.0      STEM  \n",
              "20                           133000.0      HASS  \n",
              "21                           136000.0      HASS  \n",
              "22                           195000.0  Business  \n",
              "23                           111000.0  Business  \n",
              "24                           132000.0      HASS  \n",
              "25                           156000.0      STEM  \n",
              "26                           112000.0      HASS  \n",
              "27                           101000.0  Business  \n",
              "28                           149000.0      HASS  \n",
              "29                           124000.0  Business  \n",
              "30                           173000.0      STEM  \n",
              "31                           129000.0      STEM  \n",
              "32                           107000.0      HASS  \n",
              "33                           157000.0      HASS  \n",
              "34                           145000.0      HASS  \n",
              "35                           146000.0      STEM  \n",
              "36                           175000.0  Business  \n",
              "37                           183000.0      STEM  \n",
              "38                           163000.0      STEM  \n",
              "39                           134000.0      HASS  \n",
              "40                            98300.0  Business  \n",
              "41                            99200.0      HASS  \n",
              "42                           168000.0      HASS  \n",
              "43                           124000.0      STEM  \n",
              "44                           178000.0      STEM  \n",
              "45                           168000.0      HASS  \n",
              "46                           127000.0      HASS  \n",
              "47                            96400.0      HASS  \n",
              "48                           118000.0      HASS  \n",
              "49                            96400.0      HASS  \n",
              "50                                NaN       NaN  >"
            ]
          },
          "metadata": {},
          "execution_count": 16
        }
      ]
    },
    {
      "cell_type": "code",
      "source": [
        "df.tail"
      ],
      "metadata": {
        "colab": {
          "base_uri": "https://localhost:8080/"
        },
        "id": "6vvmHS8eDKJ6",
        "outputId": "893b88cc-93cf-4504-db99-cb96b27759d6"
      },
      "execution_count": 17,
      "outputs": [
        {
          "output_type": "execute_result",
          "data": {
            "text/plain": [
              "<bound method NDFrame.tail of                      Undergraduate Major  Starting Median Salary  \\\n",
              "0                             Accounting                 46000.0   \n",
              "1                  Aerospace Engineering                 57700.0   \n",
              "2                            Agriculture                 42600.0   \n",
              "3                           Anthropology                 36800.0   \n",
              "4                           Architecture                 41600.0   \n",
              "5                            Art History                 35800.0   \n",
              "6                                Biology                 38800.0   \n",
              "7                    Business Management                 43000.0   \n",
              "8                   Chemical Engineering                 63200.0   \n",
              "9                              Chemistry                 42600.0   \n",
              "10                     Civil Engineering                 53900.0   \n",
              "11                        Communications                 38100.0   \n",
              "12                  Computer Engineering                 61400.0   \n",
              "13                      Computer Science                 55900.0   \n",
              "14                          Construction                 53700.0   \n",
              "15                      Criminal Justice                 35000.0   \n",
              "16                                 Drama                 35900.0   \n",
              "17                             Economics                 50100.0   \n",
              "18                             Education                 34900.0   \n",
              "19                Electrical Engineering                 60900.0   \n",
              "20                               English                 38000.0   \n",
              "21                                  Film                 37900.0   \n",
              "22                               Finance                 47900.0   \n",
              "23                              Forestry                 39100.0   \n",
              "24                             Geography                 41200.0   \n",
              "25                               Geology                 43500.0   \n",
              "26                        Graphic Design                 35700.0   \n",
              "27            Health Care Administration                 38800.0   \n",
              "28                               History                 39200.0   \n",
              "29                 Hospitality & Tourism                 37800.0   \n",
              "30                Industrial Engineering                 57700.0   \n",
              "31           Information Technology (IT)                 49100.0   \n",
              "32                       Interior Design                 36100.0   \n",
              "33               International Relations                 40900.0   \n",
              "34                            Journalism                 35600.0   \n",
              "35  Management Information Systems (MIS)                 49200.0   \n",
              "36                             Marketing                 40800.0   \n",
              "37                                  Math                 45400.0   \n",
              "38                Mechanical Engineering                 57900.0   \n",
              "39                                 Music                 35900.0   \n",
              "40                               Nursing                 54200.0   \n",
              "41                             Nutrition                 39900.0   \n",
              "42                            Philosophy                 39900.0   \n",
              "43                   Physician Assistant                 74300.0   \n",
              "44                               Physics                 50300.0   \n",
              "45                     Political Science                 40800.0   \n",
              "46                            Psychology                 35900.0   \n",
              "47                              Religion                 34100.0   \n",
              "48                             Sociology                 36500.0   \n",
              "49                               Spanish                 34000.0   \n",
              "50                 Source: PayScale Inc.                     NaN   \n",
              "\n",
              "    Mid-Career Median Salary  Mid-Career 10th Percentile Salary  \\\n",
              "0                    77100.0                            42200.0   \n",
              "1                   101000.0                            64300.0   \n",
              "2                    71900.0                            36300.0   \n",
              "3                    61500.0                            33800.0   \n",
              "4                    76800.0                            50600.0   \n",
              "5                    64900.0                            28800.0   \n",
              "6                    64800.0                            36900.0   \n",
              "7                    72100.0                            38800.0   \n",
              "8                   107000.0                            71900.0   \n",
              "9                    79900.0                            45300.0   \n",
              "10                   90500.0                            63400.0   \n",
              "11                   70000.0                            37500.0   \n",
              "12                  105000.0                            66100.0   \n",
              "13                   95500.0                            56000.0   \n",
              "14                   88900.0                            56300.0   \n",
              "15                   56300.0                            32200.0   \n",
              "16                   56900.0                            36700.0   \n",
              "17                   98600.0                            50600.0   \n",
              "18                   52000.0                            29300.0   \n",
              "19                  103000.0                            69300.0   \n",
              "20                   64700.0                            33400.0   \n",
              "21                   68500.0                            33900.0   \n",
              "22                   88300.0                            47200.0   \n",
              "23                   62600.0                            41000.0   \n",
              "24                   65500.0                            40000.0   \n",
              "25                   79500.0                            45000.0   \n",
              "26                   59800.0                            36000.0   \n",
              "27                   60600.0                            34600.0   \n",
              "28                   71000.0                            37000.0   \n",
              "29                   57500.0                            35500.0   \n",
              "30                   94700.0                            57100.0   \n",
              "31                   74800.0                            44500.0   \n",
              "32                   53200.0                            35700.0   \n",
              "33                   80900.0                            38200.0   \n",
              "34                   66700.0                            38400.0   \n",
              "35                   82300.0                            45300.0   \n",
              "36                   79600.0                            42100.0   \n",
              "37                   92400.0                            45200.0   \n",
              "38                   93600.0                            63700.0   \n",
              "39                   55000.0                            26700.0   \n",
              "40                   67000.0                            47600.0   \n",
              "41                   55300.0                            33900.0   \n",
              "42                   81200.0                            35500.0   \n",
              "43                   91700.0                            66400.0   \n",
              "44                   97300.0                            56000.0   \n",
              "45                   78200.0                            41200.0   \n",
              "46                   60400.0                            31600.0   \n",
              "47                   52000.0                            29700.0   \n",
              "48                   58200.0                            30700.0   \n",
              "49                   53100.0                            31000.0   \n",
              "50                       NaN                                NaN   \n",
              "\n",
              "    Mid-Career 90th Percentile Salary     Group  \n",
              "0                            152000.0  Business  \n",
              "1                            161000.0      STEM  \n",
              "2                            150000.0  Business  \n",
              "3                            138000.0      HASS  \n",
              "4                            136000.0  Business  \n",
              "5                            125000.0      HASS  \n",
              "6                            135000.0      STEM  \n",
              "7                            147000.0  Business  \n",
              "8                            194000.0      STEM  \n",
              "9                            148000.0      STEM  \n",
              "10                           148000.0      STEM  \n",
              "11                           143000.0      HASS  \n",
              "12                           162000.0      STEM  \n",
              "13                           154000.0      STEM  \n",
              "14                           171000.0  Business  \n",
              "15                           107000.0      HASS  \n",
              "16                           153000.0      HASS  \n",
              "17                           210000.0  Business  \n",
              "18                           102000.0      HASS  \n",
              "19                           168000.0      STEM  \n",
              "20                           133000.0      HASS  \n",
              "21                           136000.0      HASS  \n",
              "22                           195000.0  Business  \n",
              "23                           111000.0  Business  \n",
              "24                           132000.0      HASS  \n",
              "25                           156000.0      STEM  \n",
              "26                           112000.0      HASS  \n",
              "27                           101000.0  Business  \n",
              "28                           149000.0      HASS  \n",
              "29                           124000.0  Business  \n",
              "30                           173000.0      STEM  \n",
              "31                           129000.0      STEM  \n",
              "32                           107000.0      HASS  \n",
              "33                           157000.0      HASS  \n",
              "34                           145000.0      HASS  \n",
              "35                           146000.0      STEM  \n",
              "36                           175000.0  Business  \n",
              "37                           183000.0      STEM  \n",
              "38                           163000.0      STEM  \n",
              "39                           134000.0      HASS  \n",
              "40                            98300.0  Business  \n",
              "41                            99200.0      HASS  \n",
              "42                           168000.0      HASS  \n",
              "43                           124000.0      STEM  \n",
              "44                           178000.0      STEM  \n",
              "45                           168000.0      HASS  \n",
              "46                           127000.0      HASS  \n",
              "47                            96400.0      HASS  \n",
              "48                           118000.0      HASS  \n",
              "49                            96400.0      HASS  \n",
              "50                                NaN       NaN  >"
            ]
          },
          "metadata": {},
          "execution_count": 17
        }
      ]
    },
    {
      "cell_type": "code",
      "source": [
        "clean_df = df.dropna()"
      ],
      "metadata": {
        "id": "9Xp59xegDWAf"
      },
      "execution_count": 18,
      "outputs": []
    },
    {
      "cell_type": "code",
      "source": [
        "clean_df.tail"
      ],
      "metadata": {
        "colab": {
          "base_uri": "https://localhost:8080/"
        },
        "id": "6XYA9FQFDgWl",
        "outputId": "bf1e86a7-c3a2-4125-ebeb-bf2b39b3aa94"
      },
      "execution_count": 19,
      "outputs": [
        {
          "output_type": "execute_result",
          "data": {
            "text/plain": [
              "<bound method NDFrame.tail of                      Undergraduate Major  Starting Median Salary  \\\n",
              "0                             Accounting                 46000.0   \n",
              "1                  Aerospace Engineering                 57700.0   \n",
              "2                            Agriculture                 42600.0   \n",
              "3                           Anthropology                 36800.0   \n",
              "4                           Architecture                 41600.0   \n",
              "5                            Art History                 35800.0   \n",
              "6                                Biology                 38800.0   \n",
              "7                    Business Management                 43000.0   \n",
              "8                   Chemical Engineering                 63200.0   \n",
              "9                              Chemistry                 42600.0   \n",
              "10                     Civil Engineering                 53900.0   \n",
              "11                        Communications                 38100.0   \n",
              "12                  Computer Engineering                 61400.0   \n",
              "13                      Computer Science                 55900.0   \n",
              "14                          Construction                 53700.0   \n",
              "15                      Criminal Justice                 35000.0   \n",
              "16                                 Drama                 35900.0   \n",
              "17                             Economics                 50100.0   \n",
              "18                             Education                 34900.0   \n",
              "19                Electrical Engineering                 60900.0   \n",
              "20                               English                 38000.0   \n",
              "21                                  Film                 37900.0   \n",
              "22                               Finance                 47900.0   \n",
              "23                              Forestry                 39100.0   \n",
              "24                             Geography                 41200.0   \n",
              "25                               Geology                 43500.0   \n",
              "26                        Graphic Design                 35700.0   \n",
              "27            Health Care Administration                 38800.0   \n",
              "28                               History                 39200.0   \n",
              "29                 Hospitality & Tourism                 37800.0   \n",
              "30                Industrial Engineering                 57700.0   \n",
              "31           Information Technology (IT)                 49100.0   \n",
              "32                       Interior Design                 36100.0   \n",
              "33               International Relations                 40900.0   \n",
              "34                            Journalism                 35600.0   \n",
              "35  Management Information Systems (MIS)                 49200.0   \n",
              "36                             Marketing                 40800.0   \n",
              "37                                  Math                 45400.0   \n",
              "38                Mechanical Engineering                 57900.0   \n",
              "39                                 Music                 35900.0   \n",
              "40                               Nursing                 54200.0   \n",
              "41                             Nutrition                 39900.0   \n",
              "42                            Philosophy                 39900.0   \n",
              "43                   Physician Assistant                 74300.0   \n",
              "44                               Physics                 50300.0   \n",
              "45                     Political Science                 40800.0   \n",
              "46                            Psychology                 35900.0   \n",
              "47                              Religion                 34100.0   \n",
              "48                             Sociology                 36500.0   \n",
              "49                               Spanish                 34000.0   \n",
              "\n",
              "    Mid-Career Median Salary  Mid-Career 10th Percentile Salary  \\\n",
              "0                    77100.0                            42200.0   \n",
              "1                   101000.0                            64300.0   \n",
              "2                    71900.0                            36300.0   \n",
              "3                    61500.0                            33800.0   \n",
              "4                    76800.0                            50600.0   \n",
              "5                    64900.0                            28800.0   \n",
              "6                    64800.0                            36900.0   \n",
              "7                    72100.0                            38800.0   \n",
              "8                   107000.0                            71900.0   \n",
              "9                    79900.0                            45300.0   \n",
              "10                   90500.0                            63400.0   \n",
              "11                   70000.0                            37500.0   \n",
              "12                  105000.0                            66100.0   \n",
              "13                   95500.0                            56000.0   \n",
              "14                   88900.0                            56300.0   \n",
              "15                   56300.0                            32200.0   \n",
              "16                   56900.0                            36700.0   \n",
              "17                   98600.0                            50600.0   \n",
              "18                   52000.0                            29300.0   \n",
              "19                  103000.0                            69300.0   \n",
              "20                   64700.0                            33400.0   \n",
              "21                   68500.0                            33900.0   \n",
              "22                   88300.0                            47200.0   \n",
              "23                   62600.0                            41000.0   \n",
              "24                   65500.0                            40000.0   \n",
              "25                   79500.0                            45000.0   \n",
              "26                   59800.0                            36000.0   \n",
              "27                   60600.0                            34600.0   \n",
              "28                   71000.0                            37000.0   \n",
              "29                   57500.0                            35500.0   \n",
              "30                   94700.0                            57100.0   \n",
              "31                   74800.0                            44500.0   \n",
              "32                   53200.0                            35700.0   \n",
              "33                   80900.0                            38200.0   \n",
              "34                   66700.0                            38400.0   \n",
              "35                   82300.0                            45300.0   \n",
              "36                   79600.0                            42100.0   \n",
              "37                   92400.0                            45200.0   \n",
              "38                   93600.0                            63700.0   \n",
              "39                   55000.0                            26700.0   \n",
              "40                   67000.0                            47600.0   \n",
              "41                   55300.0                            33900.0   \n",
              "42                   81200.0                            35500.0   \n",
              "43                   91700.0                            66400.0   \n",
              "44                   97300.0                            56000.0   \n",
              "45                   78200.0                            41200.0   \n",
              "46                   60400.0                            31600.0   \n",
              "47                   52000.0                            29700.0   \n",
              "48                   58200.0                            30700.0   \n",
              "49                   53100.0                            31000.0   \n",
              "\n",
              "    Mid-Career 90th Percentile Salary     Group  \n",
              "0                            152000.0  Business  \n",
              "1                            161000.0      STEM  \n",
              "2                            150000.0  Business  \n",
              "3                            138000.0      HASS  \n",
              "4                            136000.0  Business  \n",
              "5                            125000.0      HASS  \n",
              "6                            135000.0      STEM  \n",
              "7                            147000.0  Business  \n",
              "8                            194000.0      STEM  \n",
              "9                            148000.0      STEM  \n",
              "10                           148000.0      STEM  \n",
              "11                           143000.0      HASS  \n",
              "12                           162000.0      STEM  \n",
              "13                           154000.0      STEM  \n",
              "14                           171000.0  Business  \n",
              "15                           107000.0      HASS  \n",
              "16                           153000.0      HASS  \n",
              "17                           210000.0  Business  \n",
              "18                           102000.0      HASS  \n",
              "19                           168000.0      STEM  \n",
              "20                           133000.0      HASS  \n",
              "21                           136000.0      HASS  \n",
              "22                           195000.0  Business  \n",
              "23                           111000.0  Business  \n",
              "24                           132000.0      HASS  \n",
              "25                           156000.0      STEM  \n",
              "26                           112000.0      HASS  \n",
              "27                           101000.0  Business  \n",
              "28                           149000.0      HASS  \n",
              "29                           124000.0  Business  \n",
              "30                           173000.0      STEM  \n",
              "31                           129000.0      STEM  \n",
              "32                           107000.0      HASS  \n",
              "33                           157000.0      HASS  \n",
              "34                           145000.0      HASS  \n",
              "35                           146000.0      STEM  \n",
              "36                           175000.0  Business  \n",
              "37                           183000.0      STEM  \n",
              "38                           163000.0      STEM  \n",
              "39                           134000.0      HASS  \n",
              "40                            98300.0  Business  \n",
              "41                            99200.0      HASS  \n",
              "42                           168000.0      HASS  \n",
              "43                           124000.0      STEM  \n",
              "44                           178000.0      STEM  \n",
              "45                           168000.0      HASS  \n",
              "46                           127000.0      HASS  \n",
              "47                            96400.0      HASS  \n",
              "48                           118000.0      HASS  \n",
              "49                            96400.0      HASS  >"
            ]
          },
          "metadata": {},
          "execution_count": 19
        }
      ]
    },
    {
      "cell_type": "code",
      "source": [
        "clean_df['Starting Median Salary']"
      ],
      "metadata": {
        "colab": {
          "base_uri": "https://localhost:8080/"
        },
        "id": "lOz_hnEjDi2K",
        "outputId": "d42755c1-e817-4f5c-e7da-120dd6d68d22"
      },
      "execution_count": 20,
      "outputs": [
        {
          "output_type": "execute_result",
          "data": {
            "text/plain": [
              "0     46000.0\n",
              "1     57700.0\n",
              "2     42600.0\n",
              "3     36800.0\n",
              "4     41600.0\n",
              "5     35800.0\n",
              "6     38800.0\n",
              "7     43000.0\n",
              "8     63200.0\n",
              "9     42600.0\n",
              "10    53900.0\n",
              "11    38100.0\n",
              "12    61400.0\n",
              "13    55900.0\n",
              "14    53700.0\n",
              "15    35000.0\n",
              "16    35900.0\n",
              "17    50100.0\n",
              "18    34900.0\n",
              "19    60900.0\n",
              "20    38000.0\n",
              "21    37900.0\n",
              "22    47900.0\n",
              "23    39100.0\n",
              "24    41200.0\n",
              "25    43500.0\n",
              "26    35700.0\n",
              "27    38800.0\n",
              "28    39200.0\n",
              "29    37800.0\n",
              "30    57700.0\n",
              "31    49100.0\n",
              "32    36100.0\n",
              "33    40900.0\n",
              "34    35600.0\n",
              "35    49200.0\n",
              "36    40800.0\n",
              "37    45400.0\n",
              "38    57900.0\n",
              "39    35900.0\n",
              "40    54200.0\n",
              "41    39900.0\n",
              "42    39900.0\n",
              "43    74300.0\n",
              "44    50300.0\n",
              "45    40800.0\n",
              "46    35900.0\n",
              "47    34100.0\n",
              "48    36500.0\n",
              "49    34000.0\n",
              "Name: Starting Median Salary, dtype: float64"
            ]
          },
          "metadata": {},
          "execution_count": 20
        }
      ]
    },
    {
      "cell_type": "code",
      "source": [
        "clean_df['Starting Median Salary'].max()"
      ],
      "metadata": {
        "colab": {
          "base_uri": "https://localhost:8080/"
        },
        "id": "4SUFZC2NEG5v",
        "outputId": "f2a23d99-b847-4830-a7ab-bac860eaa268"
      },
      "execution_count": 21,
      "outputs": [
        {
          "output_type": "execute_result",
          "data": {
            "text/plain": [
              "74300.0"
            ]
          },
          "metadata": {},
          "execution_count": 21
        }
      ]
    },
    {
      "cell_type": "code",
      "source": [
        "clean_df['Starting Median Salary'].idxmax()"
      ],
      "metadata": {
        "colab": {
          "base_uri": "https://localhost:8080/"
        },
        "id": "5p3OLwiXESID",
        "outputId": "8c94f89a-5e01-4a59-d006-180154c6f63b"
      },
      "execution_count": 23,
      "outputs": [
        {
          "output_type": "execute_result",
          "data": {
            "text/plain": [
              "43"
            ]
          },
          "metadata": {},
          "execution_count": 23
        }
      ]
    },
    {
      "cell_type": "code",
      "source": [
        "clean_df['Undergraduate Major'].loc[43]"
      ],
      "metadata": {
        "colab": {
          "base_uri": "https://localhost:8080/",
          "height": 35
        },
        "id": "8Un4jSvvEchE",
        "outputId": "8950b25b-561a-4ad0-d1b6-068a919dc342"
      },
      "execution_count": 24,
      "outputs": [
        {
          "output_type": "execute_result",
          "data": {
            "text/plain": [
              "'Physician Assistant'"
            ],
            "application/vnd.google.colaboratory.intrinsic+json": {
              "type": "string"
            }
          },
          "metadata": {},
          "execution_count": 24
        }
      ]
    },
    {
      "cell_type": "code",
      "source": [
        "clean_df['Undergraduate Major'][43]"
      ],
      "metadata": {
        "colab": {
          "base_uri": "https://localhost:8080/",
          "height": 35
        },
        "id": "vqDYRusjEpzH",
        "outputId": "88d44e0b-62cb-46bb-8b34-9d80cbb98179"
      },
      "execution_count": 25,
      "outputs": [
        {
          "output_type": "execute_result",
          "data": {
            "text/plain": [
              "'Physician Assistant'"
            ],
            "application/vnd.google.colaboratory.intrinsic+json": {
              "type": "string"
            }
          },
          "metadata": {},
          "execution_count": 25
        }
      ]
    },
    {
      "cell_type": "code",
      "source": [
        ""
      ],
      "metadata": {
        "id": "yXXYxEABE1Sl"
      },
      "execution_count": null,
      "outputs": []
    }
  ]
}